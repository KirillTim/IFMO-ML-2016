{
 "cells": [
  {
   "cell_type": "code",
   "execution_count": 79,
   "metadata": {
    "collapsed": true
   },
   "outputs": [],
   "source": [
    "#  Седьмая (и последняя) лаба будет посвящена нейронным сетям. \n",
    "#     Для этого нужно взять датасет MNIST и сделать однослойный\\многослойный перцептрон для распознавания цифр 0-9. \n",
    "#     При этом обязательно, чтобы можно было посмотреть на каких цифрах ваш классификатор ошибается, \n",
    "#     а так же должна быть возможность ручного ввода изображений для распознавания и дообучения на них. \n",
    "#     Нужно грамотно уметь объяснять все про backpropagation и функции активации. Датасет и инструкция, \n",
    "#     как из него извлекать данные лежат здесь: http://yann.lecun.com/exdb/mnist/index.html \n",
    "# метод обратного распространения ошибки\n",
    "# Описание алгоритма: https://habrahabr.ru/post/198268/, \n",
    "# http://cyberleninka.ru/article/n/primenenie-svertochnoy-neyronnoy-seti-dlya-raspoznavaniya-rukopisnyh-tsifr\n",
    "# http://mechanoid.kiev.ua/ml-lenet.html"
   ]
  },
  {
   "cell_type": "code",
   "execution_count": 110,
   "metadata": {
    "collapsed": false
   },
   "outputs": [
    {
     "name": "stdout",
     "output_type": "stream",
     "text": [
      "The autoreload extension is already loaded. To reload it, use:\n",
      "  %reload_ext autoreload\n"
     ]
    },
    {
     "data": {
      "application/javascript": [
       "IPython.notebook.set_autosave_interval(15000)"
      ]
     },
     "metadata": {},
     "output_type": "display_data"
    },
    {
     "name": "stdout",
     "output_type": "stream",
     "text": [
      "Autosaving every 15 seconds\n"
     ]
    }
   ],
   "source": [
    "%matplotlib inline\n",
    "%load_ext autoreload\n",
    "%autoreload 5\n",
    "%autosave 15    \n",
    "\n",
    "import pandas as pd\n",
    "import random as rd\n",
    "import pylab as pl\n",
    "import numpy as np\n",
    "from sklearn.decomposition import PCA\n",
    "from sklearn import preprocessing\n",
    "import matplotlib.pyplot as plt\n",
    "import os, struct\n",
    "from math import exp\n",
    "from array import array as pyarray\n",
    "from sklearn.cross_validation import KFold\n",
    "from sklearn.metrics.pairwise import euclidean_distances\n",
    "from sklearn.metrics import accuracy_score, f1_score\n",
    "from scipy.spatial.distance import euclidean, cityblock, cosine, correlation\n",
    "from IPython.display import display, HTML\n",
    "from sklearn.metrics import mean_squared_error\n",
    "plt.rcParams[\"figure.figsize\"]=[15,10]"
   ]
  },
  {
   "cell_type": "code",
   "execution_count": 118,
   "metadata": {
    "collapsed": false
   },
   "outputs": [],
   "source": [
    "from mnist import MNIST\n",
    "\n",
    "mndata = MNIST('./samples')\n",
    "\n",
    "# size 28 * 28, train count = 60000, test count = 10000\n",
    "image_size = 28 # n = 28 ** 2\n",
    "\n",
    "train_images, train_labels = mndata.load_training()\n",
    "train_size = len(train_images)\n",
    "\n",
    "test_images, test_labels = mndata.load_testing()\n",
    "test_size = len(test_images)\n",
    "\n",
    "n = 25\n",
    "\n",
    "train_pca = np.array(train_images + test_images)\n",
    "pca = PCA(n_components=n).fit(train_pca)\n"
   ]
  },
  {
   "cell_type": "code",
   "execution_count": 123,
   "metadata": {
    "collapsed": false
   },
   "outputs": [],
   "source": [
    "# init \n",
    "\n",
    "\n",
    "def sumprod(a, b):\n",
    "    return sum(map(lambda x: x[0] * x[1], zip(a, b)))\n",
    "\n",
    "m = 10 # количество выходных y нейронов\n",
    "p = 50 # TODO количество скрытых z нейронов\n",
    "\n",
    "\n",
    "v = [[rd.random() - 0.5 for j in range(p)] for i in range(n)] # Смещение скрытого нейрона j\n",
    "v0 = [rd.random() - 0.5 for j in range(p)]\n",
    "w = [[rd.random() - 0.5 for k in range(m)] for j in range(p)] # Смещение нейрона на выходе\n",
    "w0 = [rd.random() - 0.5 for k in range(m)]\n",
    "\n",
    "alpha = 0.5 # Скорость обучения"
   ]
  },
  {
   "cell_type": "code",
   "execution_count": 124,
   "metadata": {
    "collapsed": false
   },
   "outputs": [],
   "source": [
    "# функция активации (competitive function)\n",
    "\n",
    "f = lambda x: 1 / (1 + exp(-x)) # [0..1]\n",
    "f1 = lambda x: f(x) * (1 - f(x)) # z1'(x)"
   ]
  },
  {
   "cell_type": "code",
   "execution_count": 136,
   "metadata": {
    "collapsed": false
   },
   "outputs": [],
   "source": [
    "# neural network\n",
    "\n",
    "def nn_go(x, ans):\n",
    "    global v, w, v0, w0\n",
    "    t = [0] * m\n",
    "    t[ans] = 1\n",
    "    xx = pca.transform([x])\n",
    "    xx = preprocessing.normalize(xx)\n",
    "    xx = xx[0]    \n",
    "    # step 4. evaluate z\n",
    "    z_in = [0] * p # Суммарное значение подаваемое на вход скрытого нейрона\n",
    "    for j in range(p):\n",
    "        z_in[j] = sumprod([v[i][j] for i in range(n)], xx) + v0[j]\n",
    "    zz = list(map(f, z_in)) # Скрытый нейрон\n",
    "    \n",
    "    # step 5. evaluate y\n",
    "    y_in = [0] * m # Суммарное значение подаваемое на вход скрытого нейрона\n",
    "    for k in range(m):\n",
    "        y_in[k] = sumprod([w[j][k] for j in range(p)], zz) + w0[k]\n",
    "    yy = list(map(f, y_in)) # Нейрон на выходе    \n",
    "    \n",
    "    if (ans == -1):\n",
    "        res = max(yy)\n",
    "        for k in range(m):\n",
    "            if yy[k] == res:\n",
    "                return k\n",
    "    \n",
    "    # step 6. evaluate y error\n",
    "    sigmak = [(t[k] - yy[k]) * (f1(y_in[k])) for k in range(m)]\n",
    "    delta_w = [[alpha * sigmak[k] * zz[j] for k in range(m)] for j in range(p)]\n",
    "    delta_w0 = [alpha * sigmak[k] for k in range(m)]\n",
    "    \n",
    "    # step 7. evaluate z error\n",
    "    sigma_in = [sumprod(sigmak, w[j]) for j in range(p)]\n",
    "    sigmaj = [sigma_in[j] * f1(z_in[j]) for j in range(p)]\n",
    "    delta_v = [([alpha * sigmaj[j] * xx[i] for j in range(p)]) for i in range(n)] # TODO\n",
    "    delta_v0 = [alpha * sigmaj[j] for j in range(p)]\n",
    "    \n",
    "    # change weights\n",
    "    v = [[v[i][j] + delta_v[i][j] for j in range(p)] for i in range(n)] # Смещение скрытого нейрона j\n",
    "    v0 = [v0[j] + delta_v0[j] for j in range(p)]\n",
    "    w = [[w[j][k] + delta_w[j][k] for k in range(m)] for j in range(p)] # Смещение нейрона на выходе\n",
    "    w0 = [w0[k] + delta_w0[k] for k in range(m)]\n",
    "    \n",
    "    return mean_squared_error(yy, t)"
   ]
  },
  {
   "cell_type": "code",
   "execution_count": 152,
   "metadata": {
    "collapsed": false
   },
   "outputs": [
    {
     "name": "stdout",
     "output_type": "stream",
     "text": [
      "0 "
     ]
    },
    {
     "ename": "KeyboardInterrupt",
     "evalue": "",
     "output_type": "error",
     "traceback": [
      "\u001b[1;31m---------------------------------------------------------------------------\u001b[0m",
      "\u001b[1;31mKeyboardInterrupt\u001b[0m                         Traceback (most recent call last)",
      "\u001b[1;32m<ipython-input-152-7c2084b23460>\u001b[0m in \u001b[0;36m<module>\u001b[1;34m()\u001b[0m\n\u001b[0;32m      3\u001b[0m     \u001b[0mmse\u001b[0m \u001b[1;33m=\u001b[0m \u001b[1;36m0.0\u001b[0m\u001b[1;33m\u001b[0m\u001b[0m\n\u001b[0;32m      4\u001b[0m     \u001b[1;32mfor\u001b[0m \u001b[0mnum\u001b[0m \u001b[1;32min\u001b[0m \u001b[0mrange\u001b[0m\u001b[1;33m(\u001b[0m\u001b[0mtrain_size\u001b[0m\u001b[1;33m)\u001b[0m\u001b[1;33m:\u001b[0m \u001b[1;31m#train_size\u001b[0m\u001b[1;33m\u001b[0m\u001b[0m\n\u001b[1;32m----> 5\u001b[1;33m         \u001b[0mmse\u001b[0m \u001b[1;33m+=\u001b[0m \u001b[0mnn_go\u001b[0m\u001b[1;33m(\u001b[0m\u001b[0mtrain_images\u001b[0m\u001b[1;33m[\u001b[0m\u001b[0mnum\u001b[0m\u001b[1;33m]\u001b[0m\u001b[1;33m,\u001b[0m \u001b[0mtrain_labels\u001b[0m\u001b[1;33m[\u001b[0m\u001b[0mnum\u001b[0m\u001b[1;33m]\u001b[0m\u001b[1;33m)\u001b[0m\u001b[1;33m\u001b[0m\u001b[0m\n\u001b[0m\u001b[0;32m      6\u001b[0m         \u001b[1;32mif\u001b[0m \u001b[1;33m(\u001b[0m\u001b[0mnum\u001b[0m \u001b[1;33m%\u001b[0m \u001b[1;36m1000\u001b[0m \u001b[1;33m==\u001b[0m \u001b[1;36m0\u001b[0m\u001b[1;33m)\u001b[0m\u001b[1;33m:\u001b[0m\u001b[1;33m\u001b[0m\u001b[0m\n\u001b[0;32m      7\u001b[0m             \u001b[0mprint\u001b[0m\u001b[1;33m(\u001b[0m\u001b[0mnum\u001b[0m\u001b[1;33m,\u001b[0m \u001b[0mend\u001b[0m\u001b[1;33m=\u001b[0m\u001b[1;34m' '\u001b[0m\u001b[1;33m)\u001b[0m\u001b[1;33m\u001b[0m\u001b[0m\n",
      "\u001b[1;32m<ipython-input-136-f891934b3eb9>\u001b[0m in \u001b[0;36mnn_go\u001b[1;34m(x, ans)\u001b[0m\n\u001b[0;32m      5\u001b[0m     \u001b[0mt\u001b[0m \u001b[1;33m=\u001b[0m \u001b[1;33m[\u001b[0m\u001b[1;36m0\u001b[0m\u001b[1;33m]\u001b[0m \u001b[1;33m*\u001b[0m \u001b[0mm\u001b[0m\u001b[1;33m\u001b[0m\u001b[0m\n\u001b[0;32m      6\u001b[0m     \u001b[0mt\u001b[0m\u001b[1;33m[\u001b[0m\u001b[0mans\u001b[0m\u001b[1;33m]\u001b[0m \u001b[1;33m=\u001b[0m \u001b[1;36m1\u001b[0m\u001b[1;33m\u001b[0m\u001b[0m\n\u001b[1;32m----> 7\u001b[1;33m     \u001b[0mxx\u001b[0m \u001b[1;33m=\u001b[0m \u001b[0mpca\u001b[0m\u001b[1;33m.\u001b[0m\u001b[0mtransform\u001b[0m\u001b[1;33m(\u001b[0m\u001b[1;33m[\u001b[0m\u001b[0mx\u001b[0m\u001b[1;33m]\u001b[0m\u001b[1;33m)\u001b[0m\u001b[1;33m\u001b[0m\u001b[0m\n\u001b[0m\u001b[0;32m      8\u001b[0m     \u001b[0mxx\u001b[0m \u001b[1;33m=\u001b[0m \u001b[0mpreprocessing\u001b[0m\u001b[1;33m.\u001b[0m\u001b[0mnormalize\u001b[0m\u001b[1;33m(\u001b[0m\u001b[0mxx\u001b[0m\u001b[1;33m)\u001b[0m\u001b[1;33m\u001b[0m\u001b[0m\n\u001b[0;32m      9\u001b[0m     \u001b[0mxx\u001b[0m \u001b[1;33m=\u001b[0m \u001b[0mxx\u001b[0m\u001b[1;33m[\u001b[0m\u001b[1;36m0\u001b[0m\u001b[1;33m]\u001b[0m\u001b[1;33m\u001b[0m\u001b[0m\n",
      "\u001b[1;32mD:\\Users\\Daria\\Documents\\Anaconda\\lib\\site-packages\\sklearn\\decomposition\\pca.py\u001b[0m in \u001b[0;36mtransform\u001b[1;34m(self, X)\u001b[0m\n\u001b[0;32m    390\u001b[0m         \u001b[1;32mif\u001b[0m \u001b[0mself\u001b[0m\u001b[1;33m.\u001b[0m\u001b[0mmean_\u001b[0m \u001b[1;32mis\u001b[0m \u001b[1;32mnot\u001b[0m \u001b[1;32mNone\u001b[0m\u001b[1;33m:\u001b[0m\u001b[1;33m\u001b[0m\u001b[0m\n\u001b[0;32m    391\u001b[0m             \u001b[0mX\u001b[0m \u001b[1;33m=\u001b[0m \u001b[0mX\u001b[0m \u001b[1;33m-\u001b[0m \u001b[0mself\u001b[0m\u001b[1;33m.\u001b[0m\u001b[0mmean_\u001b[0m\u001b[1;33m\u001b[0m\u001b[0m\n\u001b[1;32m--> 392\u001b[1;33m         \u001b[0mX_transformed\u001b[0m \u001b[1;33m=\u001b[0m \u001b[0mfast_dot\u001b[0m\u001b[1;33m(\u001b[0m\u001b[0mX\u001b[0m\u001b[1;33m,\u001b[0m \u001b[0mself\u001b[0m\u001b[1;33m.\u001b[0m\u001b[0mcomponents_\u001b[0m\u001b[1;33m.\u001b[0m\u001b[0mT\u001b[0m\u001b[1;33m)\u001b[0m\u001b[1;33m\u001b[0m\u001b[0m\n\u001b[0m\u001b[0;32m    393\u001b[0m         \u001b[1;32mif\u001b[0m \u001b[0mself\u001b[0m\u001b[1;33m.\u001b[0m\u001b[0mwhiten\u001b[0m\u001b[1;33m:\u001b[0m\u001b[1;33m\u001b[0m\u001b[0m\n\u001b[0;32m    394\u001b[0m             \u001b[0mX_transformed\u001b[0m \u001b[1;33m/=\u001b[0m \u001b[0mnp\u001b[0m\u001b[1;33m.\u001b[0m\u001b[0msqrt\u001b[0m\u001b[1;33m(\u001b[0m\u001b[0mself\u001b[0m\u001b[1;33m.\u001b[0m\u001b[0mexplained_variance_\u001b[0m\u001b[1;33m)\u001b[0m\u001b[1;33m\u001b[0m\u001b[0m\n",
      "\u001b[1;31mKeyboardInterrupt\u001b[0m: "
     ]
    }
   ],
   "source": [
    "# neural learning\n",
    "for steps in range(1):\n",
    "    mse = 0.0\n",
    "    for num in range(train_size): #train_size        \n",
    "        mse += nn_go(train_images[num], train_labels[num])    \n",
    "        if (num % 1000 == 0):\n",
    "            print(num, end=' ')\n",
    "    print(mse / train_size)\n",
    "\n",
    "# 1. mse = 0.0112276998947\n",
    "# 2. mse = 0.00955731831638"
   ]
  },
  {
   "cell_type": "code",
   "execution_count": 151,
   "metadata": {
    "collapsed": false
   },
   "outputs": [
    {
     "name": "stdout",
     "output_type": "stream",
     "text": [
      "0 1000 2000 3000 4000 5000 6000 7000 8000 9000 RESULT\n",
      "NUMBER = 0 ; OK = 967 ; FAILED = 13\n",
      "NUMBER = 1 ; OK = 1123 ; FAILED = 12\n",
      "NUMBER = 2 ; OK = 947 ; FAILED = 85\n",
      "NUMBER = 3 ; OK = 976 ; FAILED = 34\n",
      "NUMBER = 4 ; OK = 935 ; FAILED = 47\n",
      "NUMBER = 5 ; OK = 802 ; FAILED = 90\n",
      "NUMBER = 6 ; OK = 928 ; FAILED = 30\n",
      "NUMBER = 7 ; OK = 916 ; FAILED = 112\n",
      "NUMBER = 8 ; OK = 868 ; FAILED = 106\n",
      "NUMBER = 9 ; OK = 959 ; FAILED = 50\n",
      "SUM OK = 9421 ; FAILED = 579\n"
     ]
    }
   ],
   "source": [
    "def getNumber(x):\n",
    "    res = nn_go(x, -1)    \n",
    "    return res\n",
    "\n",
    "# neural test\n",
    "ok = [0] * 10\n",
    "failed = [0] * 10\n",
    "for i in range(test_size): # test_size\n",
    "    ans = test_labels[i]\n",
    "    pred = getNumber(test_images[i])\n",
    "#     print(\"answer is\", ans, \"; prediction is\", pred)\n",
    "    if (ans == pred):\n",
    "        ok[ans] += 1\n",
    "    else:\n",
    "        failed[ans] += 1    \n",
    "print(\"RESULT\")\n",
    "for i in range(10):\n",
    "    print(\"NUMBER =\", i, \"; OK =\", ok[i], \"; FAILED =\", failed[i])\n",
    "print(\"SUM OK =\", sum(ok), \"; FAILED =\", sum(failed))\n",
    "\n",
    "# 2. SUM OK = 9421 ; FAILED = 579, the worst digits: 7 (112 failed), 8 (106 failed)"
   ]
  },
  {
   "cell_type": "code",
   "execution_count": null,
   "metadata": {
    "collapsed": false
   },
   "outputs": [],
   "source": []
  },
  {
   "cell_type": "code",
   "execution_count": 146,
   "metadata": {
    "collapsed": true
   },
   "outputs": [],
   "source": []
  },
  {
   "cell_type": "code",
   "execution_count": null,
   "metadata": {
    "collapsed": true
   },
   "outputs": [],
   "source": []
  }
 ],
 "metadata": {
  "anaconda-cloud": {},
  "kernelspec": {
   "display_name": "Python [Root]",
   "language": "python",
   "name": "Python [Root]"
  },
  "language_info": {
   "codemirror_mode": {
    "name": "ipython",
    "version": 3
   },
   "file_extension": ".py",
   "mimetype": "text/x-python",
   "name": "python",
   "nbconvert_exporter": "python",
   "pygments_lexer": "ipython3",
   "version": "3.5.2"
  }
 },
 "nbformat": 4,
 "nbformat_minor": 0
}
