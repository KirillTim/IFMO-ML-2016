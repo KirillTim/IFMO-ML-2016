{
 "cells": [
  {
   "cell_type": "code",
   "execution_count": 79,
   "metadata": {
    "collapsed": true
   },
   "outputs": [],
   "source": [
    "#  Седьмая (и последняя) лаба будет посвящена нейронным сетям. \n",
    "#     Для этого нужно взять датасет MNIST и сделать однослойный\\многослойный перцептрон для распознавания цифр 0-9. \n",
    "#     При этом обязательно, чтобы можно было посмотреть на каких цифрах ваш классификатор ошибается, \n",
    "#     а так же должна быть возможность ручного ввода изображений для распознавания и дообучения на них. \n",
    "#     Нужно грамотно уметь объяснять все про backpropagation и функции активации. Датасет и инструкция, \n",
    "#     как из него извлекать данные лежат здесь: http://yann.lecun.com/exdb/mnist/index.html \n",
    "# метод обратного распространения ошибки\n",
    "# Описание алгоритма: https://habrahabr.ru/post/198268/, \n",
    "# http://cyberleninka.ru/article/n/primenenie-svertochnoy-neyronnoy-seti-dlya-raspoznavaniya-rukopisnyh-tsifr\n",
    "# http://mechanoid.kiev.ua/ml-lenet.html"
   ]
  },
  {
   "cell_type": "code",
   "execution_count": 160,
   "metadata": {
    "collapsed": false
   },
   "outputs": [
    {
     "name": "stdout",
     "output_type": "stream",
     "text": [
      "The autoreload extension is already loaded. To reload it, use:\n",
      "  %reload_ext autoreload\n"
     ]
    },
    {
     "data": {
      "application/javascript": [
       "IPython.notebook.set_autosave_interval(15000)"
      ]
     },
     "metadata": {},
     "output_type": "display_data"
    },
    {
     "name": "stdout",
     "output_type": "stream",
     "text": [
      "Autosaving every 15 seconds\n"
     ]
    }
   ],
   "source": [
    "%matplotlib inline\n",
    "%load_ext autoreload\n",
    "%autoreload 5\n",
    "%autosave 15    \n",
    "\n",
    "import pandas as pd\n",
    "import random as rd\n",
    "import pylab as pl\n",
    "import numpy as np\n",
    "from tkinter import *\n",
    "from PIL import Image\n",
    "import numpy as np\n",
    "from sklearn.decomposition import PCA\n",
    "from sklearn import preprocessing\n",
    "import matplotlib.pyplot as plt\n",
    "import os, struct\n",
    "from math import exp\n",
    "from array import array as pyarray\n",
    "from sklearn.cross_validation import KFold\n",
    "from sklearn.metrics.pairwise import euclidean_distances\n",
    "from sklearn.metrics import accuracy_score, f1_score\n",
    "from scipy.spatial.distance import euclidean, cityblock, cosine, correlation\n",
    "from IPython.display import display, HTML\n",
    "from sklearn.metrics import mean_squared_error\n",
    "plt.rcParams[\"figure.figsize\"]=[15,10]"
   ]
  },
  {
   "cell_type": "code",
   "execution_count": 118,
   "metadata": {
    "collapsed": false
   },
   "outputs": [],
   "source": [
    "from mnist import MNIST\n",
    "\n",
    "mndata = MNIST('./samples')\n",
    "\n",
    "# size 28 * 28, train count = 60000, test count = 10000\n",
    "image_size = 28 # n = 28 ** 2\n",
    "\n",
    "train_images, train_labels = mndata.load_training()\n",
    "train_size = len(train_images)\n",
    "\n",
    "# random.shuffle(trains_images) ???\n",
    "\n",
    "test_images, test_labels = mndata.load_testing()\n",
    "test_size = len(test_images)\n",
    "\n",
    "n = 25\n",
    "\n",
    "train_pca = np.array(train_images + test_images)\n",
    "pca = PCA(n_components=n).fit(train_pca)\n"
   ]
  },
  {
   "cell_type": "code",
   "execution_count": 123,
   "metadata": {
    "collapsed": false
   },
   "outputs": [],
   "source": [
    "# init \n",
    "\n",
    "\n",
    "def sumprod(a, b):\n",
    "    return sum(map(lambda x: x[0] * x[1], zip(a, b)))\n",
    "\n",
    "m = 10 # количество выходных y нейронов\n",
    "p = 50 # TODO количество скрытых z нейронов\n",
    "\n",
    "\n",
    "v = [[rd.random() - 0.5 for j in range(p)] for i in range(n)] # Смещение скрытого нейрона j\n",
    "v0 = [rd.random() - 0.5 for j in range(p)]\n",
    "w = [[rd.random() - 0.5 for k in range(m)] for j in range(p)] # Смещение нейрона на выходе\n",
    "w0 = [rd.random() - 0.5 for k in range(m)]\n",
    "\n",
    "alpha = 0.5 # Скорость обучения"
   ]
  },
  {
   "cell_type": "code",
   "execution_count": 124,
   "metadata": {
    "collapsed": false
   },
   "outputs": [],
   "source": [
    "# функция активации (competitive function)\n",
    "\n",
    "f = lambda x: 1 / (1 + exp(-x)) # [0..1]\n",
    "f1 = lambda x: f(x) * (1 - f(x)) # z1'(x)"
   ]
  },
  {
   "cell_type": "code",
   "execution_count": 136,
   "metadata": {
    "collapsed": false
   },
   "outputs": [],
   "source": [
    "# neural network\n",
    "\n",
    "def nn_go(x, ans):\n",
    "    global v, w, v0, w0\n",
    "    t = [0] * m\n",
    "    t[ans] = 1\n",
    "    xx = pca.transform([x])\n",
    "    xx = preprocessing.normalize(xx)\n",
    "    xx = xx[0]    \n",
    "    # step 4. evaluate z\n",
    "    z_in = [0] * p # Суммарное значение подаваемое на вход скрытого нейрона\n",
    "    for j in range(p):\n",
    "        z_in[j] = sumprod([v[i][j] for i in range(n)], xx) + v0[j]\n",
    "    zz = list(map(f, z_in)) # Скрытый нейрон\n",
    "    \n",
    "    # step 5. evaluate y\n",
    "    y_in = [0] * m # Суммарное значение подаваемое на вход скрытого нейрона\n",
    "    for k in range(m):\n",
    "        y_in[k] = sumprod([w[j][k] for j in range(p)], zz) + w0[k]\n",
    "    yy = list(map(f, y_in)) # Нейрон на выходе    \n",
    "    \n",
    "    if (ans == -1):\n",
    "        res = max(yy)\n",
    "        for k in range(m):\n",
    "            if yy[k] == res:\n",
    "                return k\n",
    "    \n",
    "    # step 6. evaluate y error\n",
    "    sigmak = [(t[k] - yy[k]) * (f1(y_in[k])) for k in range(m)]\n",
    "    delta_w = [[alpha * sigmak[k] * zz[j] for k in range(m)] for j in range(p)]\n",
    "    delta_w0 = [alpha * sigmak[k] for k in range(m)]\n",
    "    \n",
    "    # step 7. evaluate z error\n",
    "    sigma_in = [sumprod(sigmak, w[j]) for j in range(p)]\n",
    "    sigmaj = [sigma_in[j] * f1(z_in[j]) for j in range(p)]\n",
    "    delta_v = [([alpha * sigmaj[j] * xx[i] for j in range(p)]) for i in range(n)] # TODO\n",
    "    delta_v0 = [alpha * sigmaj[j] for j in range(p)]\n",
    "    \n",
    "    # change weights\n",
    "    v = [[v[i][j] + delta_v[i][j] for j in range(p)] for i in range(n)] # Смещение скрытого нейрона j\n",
    "    v0 = [v0[j] + delta_v0[j] for j in range(p)]\n",
    "    w = [[w[j][k] + delta_w[j][k] for k in range(m)] for j in range(p)] # Смещение нейрона на выходе\n",
    "    w0 = [w0[k] + delta_w0[k] for k in range(m)]\n",
    "    \n",
    "    return mean_squared_error(yy, t)"
   ]
  },
  {
   "cell_type": "code",
   "execution_count": 157,
   "metadata": {
    "collapsed": false
   },
   "outputs": [
    {
     "name": "stdout",
     "output_type": "stream",
     "text": [
      "0 1000 2000 3000 4000 5000 6000 7000 8000 9000 10000 11000 12000 13000 14000 15000 16000 17000 18000 19000 20000 21000 22000 23000 24000 25000 26000 27000 28000 29000 30000 31000 32000 33000 34000 35000 36000 37000 38000 39000 40000 41000 42000 43000 44000 45000 46000 47000 48000 49000 50000 51000 52000 53000 54000 55000 56000 57000 58000 59000 0.00808093830118\n",
      "0 1000 2000 3000 4000 5000 6000 7000 8000 9000 10000 11000 12000 13000 14000 15000 16000 17000 18000 19000 20000 21000 22000 23000 24000 25000 26000 27000 28000 29000 30000 31000 32000 33000 34000 35000 36000 37000 38000 39000 40000 41000 42000 43000 44000 45000 46000 47000 48000 49000 50000 51000 52000 53000 54000 55000 56000 57000 58000 59000 0.00769748620968\n"
     ]
    }
   ],
   "source": [
    "# neural learning\n",
    "for steps in range(2):\n",
    "    mse = 0.0\n",
    "    for num in range(train_size): #train_size\n",
    "        mse += nn_go(train_images[num], train_labels[num])    \n",
    "        if (num % 1000 == 0):\n",
    "            print(num, end=' ')\n",
    "    print(mse / train_size)\n",
    "\n",
    "# 1. mse = 0.0112276998947\n",
    "# 2. mse = 0.00955731831638\n",
    "# 3. mse = 0.00871734712824\n",
    "# 5. mse = 0.00769748620968"
   ]
  },
  {
   "cell_type": "code",
   "execution_count": 159,
   "metadata": {
    "collapsed": false
   },
   "outputs": [
    {
     "name": "stdout",
     "output_type": "stream",
     "text": [
      "RESULT\n",
      "NUMBER = 0 ; OK = 970 ; FAILED = 10\n",
      "NUMBER = 1 ; OK = 1122 ; FAILED = 13\n",
      "NUMBER = 2 ; OK = 982 ; FAILED = 50\n",
      "NUMBER = 3 ; OK = 971 ; FAILED = 39\n",
      "NUMBER = 4 ; OK = 952 ; FAILED = 30\n",
      "NUMBER = 5 ; OK = 836 ; FAILED = 56\n",
      "NUMBER = 6 ; OK = 920 ; FAILED = 38\n",
      "NUMBER = 7 ; OK = 949 ; FAILED = 79\n",
      "NUMBER = 8 ; OK = 905 ; FAILED = 69\n",
      "NUMBER = 9 ; OK = 963 ; FAILED = 46\n",
      "SUM OK = 9570 ; FAILED = 430\n"
     ]
    }
   ],
   "source": [
    "def getNumber(x):\n",
    "    res = nn_go(x, -1)    \n",
    "    return res\n",
    "\n",
    "# neural test\n",
    "ok = [0] * 10\n",
    "failed = [0] * 10\n",
    "for i in range(test_size): # test_size\n",
    "    ans = test_labels[i]\n",
    "    pred = getNumber(test_images[i])\n",
    "#     print(\"answer is\", ans, \"; prediction is\", pred)\n",
    "    if (ans == pred):\n",
    "        ok[ans] += 1\n",
    "    else:\n",
    "        failed[ans] += 1    \n",
    "print(\"RESULT\")\n",
    "for i in range(10):\n",
    "    print(\"NUMBER =\", i, \"; OK =\", ok[i], \"; FAILED =\", failed[i])\n",
    "print(\"SUM OK =\", sum(ok), \"; FAILED =\", sum(failed))\n",
    "\n",
    "# 2. SUM OK = 9421 ; FAILED = 579, the worst digits: 7 (112 failed), 8 (106 failed)\n",
    "# 3. SUM OK = 9484 ; FAILED = 516, the worисst digits: 7 (91 failed), 8 (91 failed)\n",
    "# 5. SUM OK = 9570 ; FAILED = 430, the worst digits: 7 (79 failed), 8 (69 failed)"
   ]
  },
  {
   "cell_type": "code",
   "execution_count": 162,
   "metadata": {
    "collapsed": false
   },
   "outputs": [
    {
     "name": "stderr",
     "output_type": "stream",
     "text": [
      "Exception in Tkinter callback\n",
      "Traceback (most recent call last):\n",
      "  File \"D:\\Users\\Daria\\Documents\\Anaconda\\lib\\tkinter\\__init__.py\", line 1550, in __call__\n",
      "    return self.func(*args)\n",
      "  File \"<ipython-input-162-f2970b35a634>\", line 30, in btn_callback\n",
      "    img.save(\"digit.png\", \"png\")\n",
      "  File \"D:\\Users\\Daria\\Documents\\Anaconda\\lib\\site-packages\\PIL\\Image.py\", line 1658, in save\n",
      "    self.load()\n",
      "  File \"D:\\Users\\Daria\\Documents\\Anaconda\\lib\\site-packages\\PIL\\EpsImagePlugin.py\", line 337, in load\n",
      "    self.im = Ghostscript(self.tile, self.size, self.fp, scale)\n",
      "  File \"D:\\Users\\Daria\\Documents\\Anaconda\\lib\\site-packages\\PIL\\EpsImagePlugin.py\", line 137, in Ghostscript\n",
      "    raise WindowsError('Unable to locate Ghostscript on paths')\n",
      "OSError: Unable to locate Ghostscript on paths\n"
     ]
    }
   ],
   "source": [
    "root = Tk()\n",
    "root.title(\"Draw the digit\")\n",
    "root.resizable(0,0)\n",
    "down = False\n",
    "def press(event):\n",
    "    global down\n",
    "    down = True\n",
    "\n",
    "def release(event):\n",
    "    global down\n",
    "    down = False\n",
    "\n",
    "def motion(event):\n",
    "    if down:\n",
    "        c.create_oval(event.x, event.y, event.x+1, event.y+1, width=8, fill=\"black\")\n",
    "\n",
    "c = Canvas(root, bg=\"white\", width=400, height= 400)\n",
    "c.configure(cursor=\"crosshair\")\n",
    "c.pack()\n",
    "\n",
    "c.bind(\"<Button-1>\", press)\n",
    "c.bind(\"<ButtonRelease-1>\", release)\n",
    "\n",
    "c.bind('<Motion>', motion)\n",
    "\n",
    "def btn_callback():\n",
    "    global c\n",
    "    c.postscript(file=\"digit.eps\")\n",
    "    img = Image.open(\"digit.eps\")\n",
    "    img.save(\"digit.png\", \"png\")\n",
    "    img = im.convert('1')      # Convert to black&white\n",
    "    size = 28, 28\n",
    "    img.thumbnail(size, Image.ANTIALIAS)\n",
    "    arr = np.array(im)\n",
    "    img.save(\"small_digit.png\", \"png\")\n",
    "    resh = arr.reshape((28*28, 1))\n",
    "    print(resh.shape)\n",
    "\n",
    "\n",
    "b = Button(root, text=\"OK\", command=btn_callback)\n",
    "b.pack()\n",
    "\n",
    "root.mainloop()"
   ]
  },
  {
   "cell_type": "code",
   "execution_count": 165,
   "metadata": {
    "collapsed": false
   },
   "outputs": [
    {
     "ename": "OSError",
     "evalue": "Unable to locate Ghostscript on paths",
     "output_type": "error",
     "traceback": [
      "\u001b[1;31m---------------------------------------------------------------------------\u001b[0m",
      "\u001b[1;31mOSError\u001b[0m                                   Traceback (most recent call last)",
      "\u001b[1;32m<ipython-input-165-d57e4620d7ec>\u001b[0m in \u001b[0;36m<module>\u001b[1;34m()\u001b[0m\n\u001b[0;32m      1\u001b[0m \u001b[0mimg\u001b[0m \u001b[1;33m=\u001b[0m \u001b[0mImage\u001b[0m\u001b[1;33m.\u001b[0m\u001b[0mopen\u001b[0m\u001b[1;33m(\u001b[0m\u001b[1;34m\"digit.eps\"\u001b[0m\u001b[1;33m)\u001b[0m\u001b[1;33m\u001b[0m\u001b[0m\n\u001b[1;32m----> 2\u001b[1;33m \u001b[0mimg\u001b[0m\u001b[1;33m.\u001b[0m\u001b[0msave\u001b[0m\u001b[1;33m(\u001b[0m\u001b[1;34m\"digit.png\"\u001b[0m\u001b[1;33m,\u001b[0m \u001b[1;34m\"png\"\u001b[0m\u001b[1;33m)\u001b[0m\u001b[1;33m\u001b[0m\u001b[0m\n\u001b[0m",
      "\u001b[1;32mD:\\Users\\Daria\\Documents\\Anaconda\\lib\\site-packages\\PIL\\Image.py\u001b[0m in \u001b[0;36msave\u001b[1;34m(self, fp, format, **params)\u001b[0m\n\u001b[0;32m   1656\u001b[0m \u001b[1;33m\u001b[0m\u001b[0m\n\u001b[0;32m   1657\u001b[0m         \u001b[1;31m# may mutate self!\u001b[0m\u001b[1;33m\u001b[0m\u001b[1;33m\u001b[0m\u001b[0m\n\u001b[1;32m-> 1658\u001b[1;33m         \u001b[0mself\u001b[0m\u001b[1;33m.\u001b[0m\u001b[0mload\u001b[0m\u001b[1;33m(\u001b[0m\u001b[1;33m)\u001b[0m\u001b[1;33m\u001b[0m\u001b[0m\n\u001b[0m\u001b[0;32m   1659\u001b[0m \u001b[1;33m\u001b[0m\u001b[0m\n\u001b[0;32m   1660\u001b[0m         \u001b[0msave_all\u001b[0m \u001b[1;33m=\u001b[0m \u001b[1;32mFalse\u001b[0m\u001b[1;33m\u001b[0m\u001b[0m\n",
      "\u001b[1;32mD:\\Users\\Daria\\Documents\\Anaconda\\lib\\site-packages\\PIL\\EpsImagePlugin.py\u001b[0m in \u001b[0;36mload\u001b[1;34m(self, scale)\u001b[0m\n\u001b[0;32m    335\u001b[0m         \u001b[1;32mif\u001b[0m \u001b[1;32mnot\u001b[0m \u001b[0mself\u001b[0m\u001b[1;33m.\u001b[0m\u001b[0mtile\u001b[0m\u001b[1;33m:\u001b[0m\u001b[1;33m\u001b[0m\u001b[0m\n\u001b[0;32m    336\u001b[0m             \u001b[1;32mreturn\u001b[0m\u001b[1;33m\u001b[0m\u001b[0m\n\u001b[1;32m--> 337\u001b[1;33m         \u001b[0mself\u001b[0m\u001b[1;33m.\u001b[0m\u001b[0mim\u001b[0m \u001b[1;33m=\u001b[0m \u001b[0mGhostscript\u001b[0m\u001b[1;33m(\u001b[0m\u001b[0mself\u001b[0m\u001b[1;33m.\u001b[0m\u001b[0mtile\u001b[0m\u001b[1;33m,\u001b[0m \u001b[0mself\u001b[0m\u001b[1;33m.\u001b[0m\u001b[0msize\u001b[0m\u001b[1;33m,\u001b[0m \u001b[0mself\u001b[0m\u001b[1;33m.\u001b[0m\u001b[0mfp\u001b[0m\u001b[1;33m,\u001b[0m \u001b[0mscale\u001b[0m\u001b[1;33m)\u001b[0m\u001b[1;33m\u001b[0m\u001b[0m\n\u001b[0m\u001b[0;32m    338\u001b[0m         \u001b[0mself\u001b[0m\u001b[1;33m.\u001b[0m\u001b[0mmode\u001b[0m \u001b[1;33m=\u001b[0m \u001b[0mself\u001b[0m\u001b[1;33m.\u001b[0m\u001b[0mim\u001b[0m\u001b[1;33m.\u001b[0m\u001b[0mmode\u001b[0m\u001b[1;33m\u001b[0m\u001b[0m\n\u001b[0;32m    339\u001b[0m         \u001b[0mself\u001b[0m\u001b[1;33m.\u001b[0m\u001b[0msize\u001b[0m \u001b[1;33m=\u001b[0m \u001b[0mself\u001b[0m\u001b[1;33m.\u001b[0m\u001b[0mim\u001b[0m\u001b[1;33m.\u001b[0m\u001b[0msize\u001b[0m\u001b[1;33m\u001b[0m\u001b[0m\n",
      "\u001b[1;32mD:\\Users\\Daria\\Documents\\Anaconda\\lib\\site-packages\\PIL\\EpsImagePlugin.py\u001b[0m in \u001b[0;36mGhostscript\u001b[1;34m(tile, size, fp, scale)\u001b[0m\n\u001b[0;32m    135\u001b[0m     \u001b[1;32mif\u001b[0m \u001b[0mgs_windows_binary\u001b[0m \u001b[1;32mis\u001b[0m \u001b[1;32mnot\u001b[0m \u001b[1;32mNone\u001b[0m\u001b[1;33m:\u001b[0m\u001b[1;33m\u001b[0m\u001b[0m\n\u001b[0;32m    136\u001b[0m         \u001b[1;32mif\u001b[0m \u001b[1;32mnot\u001b[0m \u001b[0mgs_windows_binary\u001b[0m\u001b[1;33m:\u001b[0m\u001b[1;33m\u001b[0m\u001b[0m\n\u001b[1;32m--> 137\u001b[1;33m             \u001b[1;32mraise\u001b[0m \u001b[0mWindowsError\u001b[0m\u001b[1;33m(\u001b[0m\u001b[1;34m'Unable to locate Ghostscript on paths'\u001b[0m\u001b[1;33m)\u001b[0m\u001b[1;33m\u001b[0m\u001b[0m\n\u001b[0m\u001b[0;32m    138\u001b[0m         \u001b[0mcommand\u001b[0m\u001b[1;33m[\u001b[0m\u001b[1;36m0\u001b[0m\u001b[1;33m]\u001b[0m \u001b[1;33m=\u001b[0m \u001b[0mgs_windows_binary\u001b[0m\u001b[1;33m\u001b[0m\u001b[0m\n\u001b[0;32m    139\u001b[0m \u001b[1;33m\u001b[0m\u001b[0m\n",
      "\u001b[1;31mOSError\u001b[0m: Unable to locate Ghostscript on paths"
     ]
    }
   ],
   "source": [
    "img = Image.open(\"digit.eps\")\n",
    "img.save(\"digit.png\", \"png\")"
   ]
  },
  {
   "cell_type": "code",
   "execution_count": null,
   "metadata": {
    "collapsed": true
   },
   "outputs": [],
   "source": []
  }
 ],
 "metadata": {
  "anaconda-cloud": {},
  "kernelspec": {
   "display_name": "Python [Root]",
   "language": "python",
   "name": "Python [Root]"
  },
  "language_info": {
   "codemirror_mode": {
    "name": "ipython",
    "version": 3
   },
   "file_extension": ".py",
   "mimetype": "text/x-python",
   "name": "python",
   "nbconvert_exporter": "python",
   "pygments_lexer": "ipython3",
   "version": "3.5.2"
  }
 },
 "nbformat": 4,
 "nbformat_minor": 0
}
