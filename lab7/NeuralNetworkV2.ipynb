{
 "cells": [
  {
   "cell_type": "code",
   "execution_count": 2,
   "metadata": {
    "collapsed": true
   },
   "outputs": [],
   "source": [
    "from tkinter import *\n",
    "from PIL import Image\n",
    "import numpy as np"
   ]
  },
  {
   "cell_type": "code",
   "execution_count": 34,
   "metadata": {
    "collapsed": true
   },
   "outputs": [],
   "source": [
    "def read_input():\n",
    "    root = Tk()\n",
    "    root.title(\"Draw the digit\")\n",
    "    root.resizable(0,0)\n",
    "    down = False\n",
    "    def press(event):\n",
    "        global down\n",
    "        down = True\n",
    "    \n",
    "    def release(event):\n",
    "        global down\n",
    "        down = False\n",
    "\n",
    "    def motion(event):\n",
    "        if down:\n",
    "            c.create_oval(event.x, event.y, event.x+1, event.y+1, width=8, fill=\"black\")\n",
    "\n",
    "    c = Canvas(root, bg=\"white\", width=400, height= 400)\n",
    "    c.configure(cursor=\"crosshair\")\n",
    "    c.pack()\n",
    "\n",
    "    c.bind(\"<Button-1>\", press)\n",
    "    c.bind(\"<ButtonRelease-1>\", release)\n",
    "\n",
    "    c.bind('<Motion>', motion)\n",
    "\n",
    "    def btn_callback():\n",
    "        global c\n",
    "        c.postscript(file=\"digit.eps\")\n",
    "        img = Image.open(\"digit.eps\")\n",
    "        img.save(\"digit.png\", \"png\")\n",
    "        img = im.convert('1')      # Convert to black&white\n",
    "        size = 28, 28\n",
    "        img.thumbnail(size, Image.ANTIALIAS)\n",
    "        arr = np.array(im)\n",
    "        img.save(\"small_digit.png\", \"png\")\n",
    "        resh = arr.reshape((28*28, 1))\n",
    "        print(resh.shape)\n",
    "        \n",
    "        \n",
    "    b = Button(root, text=\"OK\", command=btn_callback)\n",
    "    b.pack()\n",
    "\n",
    "    root.mainloop()"
   ]
  },
  {
   "cell_type": "code",
   "execution_count": null,
   "metadata": {
    "collapsed": true
   },
   "outputs": [],
   "source": [
    "root = Tk()\n",
    "root.title(\"Draw the digit\")\n",
    "root.resizable(0,0)\n",
    "down = False\n",
    "def press(event):\n",
    "    global down\n",
    "    down = True\n",
    "\n",
    "def release(event):\n",
    "    global down\n",
    "    down = False\n",
    "\n",
    "def motion(event):\n",
    "    if down:\n",
    "        c.create_oval(event.x, event.y, event.x+1, event.y+1, width=8, fill=\"black\")\n",
    "\n",
    "c = Canvas(root, bg=\"white\", width=400, height= 400)\n",
    "c.configure(cursor=\"crosshair\")\n",
    "c.pack()\n",
    "\n",
    "c.bind(\"<Button-1>\", press)\n",
    "c.bind(\"<ButtonRelease-1>\", release)\n",
    "\n",
    "c.bind('<Motion>', motion)\n",
    "\n",
    "def btn_callback():\n",
    "    global c\n",
    "    c.postscript(file=\"digit.eps\")\n",
    "    img = Image.open(\"digit.eps\")\n",
    "    img.save(\"digit.png\", \"png\")\n",
    "    img = im.convert('1')      # Convert to black&white\n",
    "    size = 28, 28\n",
    "    img.thumbnail(size, Image.ANTIALIAS)\n",
    "    arr = np.array(im)\n",
    "    img.save(\"small_digit.png\", \"png\")\n",
    "    resh = arr.reshape((28*28, 1))\n",
    "    print(resh.shape)\n",
    "\n",
    "\n",
    "b = Button(root, text=\"OK\", command=btn_callback)\n",
    "b.pack()\n",
    "\n",
    "root.mainloop()"
   ]
  },
  {
   "cell_type": "code",
   "execution_count": 35,
   "metadata": {
    "collapsed": false
   },
   "outputs": [
    {
     "name": "stderr",
     "output_type": "stream",
     "text": [
      "Exception in Tkinter callback\n",
      "Traceback (most recent call last):\n",
      "  File \"/home/kirill/anaconda3/lib/python3.5/tkinter/__init__.py\", line 1550, in __call__\n",
      "    return self.func(*args)\n",
      "  File \"<ipython-input-34-23d4a0c037e9>\", line 29, in btn_callback\n",
      "    c.postscript(file=\"digit.eps\")\n",
      "  File \"/home/kirill/anaconda3/lib/python3.5/tkinter/__init__.py\", line 2438, in postscript\n",
      "    self._options(cnf, kw))\n",
      "_tkinter.TclError: invalid command name \".140190753689896\"\n",
      "Exception in Tkinter callback\n",
      "Traceback (most recent call last):\n",
      "  File \"/home/kirill/anaconda3/lib/python3.5/tkinter/__init__.py\", line 1550, in __call__\n",
      "    return self.func(*args)\n",
      "  File \"<ipython-input-34-23d4a0c037e9>\", line 29, in btn_callback\n",
      "    c.postscript(file=\"digit.eps\")\n",
      "  File \"/home/kirill/anaconda3/lib/python3.5/tkinter/__init__.py\", line 2438, in postscript\n",
      "    self._options(cnf, kw))\n",
      "_tkinter.TclError: invalid command name \".140190753689896\"\n"
     ]
    }
   ],
   "source": [
    "read_input()"
   ]
  },
  {
   "cell_type": "code",
   "execution_count": 10,
   "metadata": {
    "collapsed": false
   },
   "outputs": [],
   "source": [
    "im = Image.open(\"digit.png\")\n",
    "im = im.convert('1')      # Convert to black&white\n",
    "A = np.array(im)             # Creates an array, white pixels==True and black pixels==False\n",
    "new_A=np.empty((A.shape[0],A.shape[1]),None) "
   ]
  },
  {
   "cell_type": "code",
   "execution_count": 22,
   "metadata": {
    "collapsed": false
   },
   "outputs": [
    {
     "data": {
      "text/plain": [
       "(0, 255)"
      ]
     },
     "execution_count": 22,
     "metadata": {},
     "output_type": "execute_result"
    }
   ],
   "source": [
    "r = im.getpixel((1, 1))\n",
    "q = im.getpixel((100, 100))\n",
    "r, q"
   ]
  },
  {
   "cell_type": "code",
   "execution_count": 23,
   "metadata": {
    "collapsed": false
   },
   "outputs": [
    {
     "data": {
      "text/plain": [
       "(452, 452)"
      ]
     },
     "execution_count": 23,
     "metadata": {},
     "output_type": "execute_result"
    }
   ],
   "source": [
    "im.size"
   ]
  },
  {
   "cell_type": "code",
   "execution_count": 26,
   "metadata": {
    "collapsed": false
   },
   "outputs": [
    {
     "data": {
      "text/plain": [
       "255"
      ]
     },
     "execution_count": 26,
     "metadata": {},
     "output_type": "execute_result"
    }
   ],
   "source": [
    "pix = im.load()\n",
    "pix[100, 100]"
   ]
  },
  {
   "cell_type": "code",
   "execution_count": 29,
   "metadata": {
    "collapsed": false
   },
   "outputs": [],
   "source": [
    "size = 28, 28\n",
    "outfile =  \"small_digit.png\"\n",
    "im = Image.open(\"digit.png\")\n",
    "im = im.convert('1')      # Convert to black&white\n",
    "im.thumbnail(size, Image.ANTIALIAS)\n",
    "arr = np.array(im)\n",
    "im.save(outfile, \"png\")"
   ]
  },
  {
   "cell_type": "code",
   "execution_count": 31,
   "metadata": {
    "collapsed": false
   },
   "outputs": [
    {
     "data": {
      "text/plain": [
       "(28, 28)"
      ]
     },
     "execution_count": 31,
     "metadata": {},
     "output_type": "execute_result"
    }
   ],
   "source": [
    "arr.shape"
   ]
  },
  {
   "cell_type": "code",
   "execution_count": 32,
   "metadata": {
    "collapsed": false
   },
   "outputs": [
    {
     "data": {
      "text/plain": [
       "(784, 1)"
      ]
     },
     "execution_count": 32,
     "metadata": {},
     "output_type": "execute_result"
    }
   ],
   "source": [
    "resh = arr.reshape((28*28, 1))\n",
    "resh.shape"
   ]
  }
 ],
 "metadata": {
  "anaconda-cloud": {},
  "kernelspec": {
   "display_name": "Python [default]",
   "language": "python",
   "name": "python3"
  },
  "language_info": {
   "codemirror_mode": {
    "name": "ipython",
    "version": 3
   },
   "file_extension": ".py",
   "mimetype": "text/x-python",
   "name": "python",
   "nbconvert_exporter": "python",
   "pygments_lexer": "ipython3",
   "version": "3.5.2"
  }
 },
 "nbformat": 4,
 "nbformat_minor": 1
}
