{
 "cells": [
  {
   "cell_type": "code",
<<<<<<< HEAD
   "execution_count": 1,
=======
>>>>>>> 2a6625ee5f7233d6a033dee39b900b58171bb30d
   "metadata": {
    "collapsed": false
   },
   "outputs": [],
   "source": [
    "%matplotlib inline\n",
    "import numpy as np\n",
    "import numpy.linalg as la\n",
    "import pandas as pd\n",
    "from sklearn.cross_validation import KFold\n",
    "import matplotlib.pyplot as plt\n",
    "import matplotlib.cm as cm\n",
    "import itertools\n",
    "from pprint import pprint\n",
    "import random as rnd\n",
    "from math import sqrt\n",
    "from sklearn.metrics import f1_score, confusion_matrix\n",
    "from scipy.stats import wilcoxon"
   ]
  },
  {
   "cell_type": "code",
<<<<<<< HEAD
   "execution_count": 2,
=======
>>>>>>> 2a6625ee5f7233d6a033dee39b900b58171bb30d
   "metadata": {
    "collapsed": false
   },
   "outputs": [],
   "source": [
    "def plot(predictor, X, y, grid_size, filename):\n",
    "    x_min, x_max = X[:, 0].min() - 1, X[:, 0].max() + 1\n",
    "    y_min, y_max = X[:, 1].min() - 1, X[:, 1].max() + 1\n",
    "    xx, yy = np.meshgrid(np.linspace(x_min, x_max, grid_size),\n",
    "                         np.linspace(y_min, y_max, grid_size),\n",
    "                         indexing='ij')\n",
    "    flatten = lambda m: np.array(m).reshape(-1,)\n",
    "\n",
    "    result = []\n",
    "    for (i, j) in itertools.product(range(grid_size), range(grid_size)):\n",
    "        point = np.array([xx[i, j], yy[i, j]]).reshape(1, 2)\n",
    "        result.append(predictor.predict(point))\n",
    "\n",
    "    Z = np.array(result).reshape(xx.shape)\n",
    "\n",
    "    plt.contourf(xx, yy, Z,\n",
    "                 cmap=cm.Paired,\n",
    "                 levels=[-0.001, 0.001],\n",
    "                 extend='both',\n",
    "                 alpha=0.8)\n",
    "    plt.scatter(flatten(X[:, 0]), flatten(X[:, 1]),\n",
    "                c=flatten(y), cmap=cm.Paired)\n",
    "    plt.xlim(x_min, x_max)\n",
    "    plt.ylim(y_min, y_max)\n",
    "    plt.savefig(filename)"
   ]
  },
  {
   "cell_type": "code",
<<<<<<< HEAD
   "execution_count": 3,
=======
>>>>>>> 2a6625ee5f7233d6a033dee39b900b58171bb30d
   "metadata": {
    "collapsed": false
   },
   "outputs": [],
   "source": [
    "def to_zero_pos(arr):\n",
    "    return [0 if i < 0 else 1 for i in arr]\n",
    "\n",
    "def to_neg_pos(arr):\n",
    "    return [-1 if i == 0 else 1 for i in arr]"
   ]
  },
  {
   "cell_type": "code",
<<<<<<< HEAD
   "execution_count": 4,
=======
>>>>>>> 2a6625ee5f7233d6a033dee39b900b58171bb30d
   "metadata": {
    "collapsed": true
   },
   "outputs": [],
   "source": [
    "class SVM():\n",
    "    \"\"\"\n",
    "        http://cs229.stanford.edu/materials/smo.pdf\n",
    "    \"\"\"\n",
    "    def __init__(self, max_iter=10000, kernel_type='linear', C=1.0, epsilon=0.001):\n",
    "        self.kernels = {\n",
    "            'linear' : self.kernel_linear,\n",
    "            'quadratic' : self.kernel_quadratic,\n",
    "            'gaussian' : self.kernel_gaussian\n",
    "        }\n",
    "        self.max_iter = max_iter\n",
    "        self.kernel_type = kernel_type\n",
    "        self.C = C\n",
    "        self.epsilon = epsilon\n",
    "        \n",
    "    def fit(self, X, y):\n",
    "        # Initialization\n",
    "        n, d = X.shape[0], X.shape[1]\n",
    "        alpha = np.zeros((n))\n",
    "        kernel = self.kernels[self.kernel_type]\n",
    "        count = 0\n",
    "        while True:\n",
    "            count += 1\n",
    "            alpha_prev = np.copy(alpha)\n",
    "            for j in range(0, n):\n",
    "                i = self.get_rnd_int(0, n-1, j)\n",
    "                x_i, x_j, y_i, y_j = X[i,:], X[j,:], y[i], y[j]\n",
    "                k_ij = kernel(x_i, x_i) + kernel(x_j, x_j) - 2 * kernel(x_i, x_j)\n",
    "                if k_ij == 0:\n",
    "                    continue\n",
    "                alpha_prime_j, alpha_prime_i = alpha[j], alpha[i]\n",
    "                (L, H) = self.compute_L_H(self.C, alpha_prime_j, alpha_prime_i, y_j, y_i)\n",
    "\n",
    "                # Compute model parameters\n",
    "                self.w = self.calc_w(alpha, y, X)\n",
    "                self.b = self.calc_b(X, y, self.w)\n",
    "\n",
    "                # Compute E_i, E_j\n",
    "                E_i = self.E(x_i, y_i, self.w, self.b)\n",
    "                E_j = self.E(x_j, y_j, self.w, self.b)\n",
    "\n",
    "                # Set new alpha values\n",
    "                alpha[j] = alpha_prime_j + float(y_j * (E_i - E_j))/k_ij\n",
    "                alpha[j] = max(alpha[j], L)\n",
    "                alpha[j] = min(alpha[j], H)\n",
    "\n",
    "                alpha[i] = alpha_prime_i + y_i*y_j * (alpha_prime_j - alpha[j])\n",
    "\n",
    "            # Check convergence\n",
    "            diff = np.linalg.norm(alpha - alpha_prev)\n",
    "            if diff < self.epsilon:\n",
    "                break\n",
    "\n",
    "            if count >= self.max_iter:\n",
    "                print(\"Iteration number exceeded the max of %d iterations\" % (self.max_iter))\n",
    "                return\n",
    "        # Compute final model parameters\n",
    "        self.b = self.calc_b(X, y, self.w)\n",
    "        if self.kernel_type == 'linear':\n",
    "            self.w = self.calc_w(alpha, y, X)\n",
    "        # Get support vectors\n",
    "        alpha_idx = np.where(alpha > 0)[0]\n",
    "        #pprint(\"support vectors:\")\n",
    "        #pprint(alpha_idx)\n",
    "        support_vectors = X[alpha_idx, :]\n",
    "        return support_vectors, count\n",
    "    \n",
    "    def predict(self, X):\n",
    "        return self.h(X, self.w, self.b)\n",
    "    def calc_b(self, X, y, w):\n",
    "        b_tmp = y - np.dot(w.T, X.T)\n",
    "        return np.mean(b_tmp)\n",
    "    def calc_w(self, alpha, y, X):\n",
    "        return np.dot(alpha * y, X)\n",
    "    # Prediction\n",
    "    def h(self, X, w, b):\n",
    "        return np.sign(np.dot(w.T, X.T) + b).item() #.astype(int)\n",
    "    # Prediction error\n",
    "    def E(self, x_k, y_k, w, b):\n",
    "        return self.h(x_k, w, b) - y_k\n",
    "    def compute_L_H(self, C, alpha_prime_j, alpha_prime_i, y_j, y_i):\n",
    "        if(y_i != y_j):\n",
    "            return (max(0, alpha_prime_j - alpha_prime_i), min(C, C - alpha_prime_i + alpha_prime_j))\n",
    "        else:\n",
    "            return (max(0, alpha_prime_i + alpha_prime_j - C), min(C, alpha_prime_i + alpha_prime_j))\n",
    "    def get_rnd_int(self, a,b,z):\n",
    "        i = z\n",
    "        while i == z:\n",
    "            i = rnd.randint(a,b)\n",
    "        return i\n",
    "    # Define kernels\n",
    "    def kernel_linear(self, x1, x2):\n",
    "        return np.dot(x1, x2.T)\n",
    "    def kernel_quadratic(self, x1, x2):\n",
    "        return (np.dot(x1, x2.T) ** 2)  \n",
    "    def kernel_gaussian(self, x, y):\n",
    "        sigma = 0.02\n",
    "        exponent = -np.sqrt(la.norm(x-y) ** 2 / (2 * sigma ** 2))\n",
    "        return np.exp(exponent)\n",
    "        "
   ]
  },
  {
   "cell_type": "code",
<<<<<<< HEAD
   "execution_count": 5,
=======
>>>>>>> 2a6625ee5f7233d6a033dee39b900b58171bb30d
   "metadata": {
    "collapsed": true
   },
   "outputs": [],
   "source": [
    "class KNNClassifier():\n",
    "    def __init__(self, k, distance):\n",
    "        self.k = k;\n",
    "        self.distance = distance\n",
    "        \n",
    "    def train(self, X, y):\n",
    "        self.train_X = X\n",
    "        self.train_y = y\n",
    "        self.k = min(self.k, len(X))\n",
    "        \n",
    "    def predict(self, x):\n",
    "        dist = []\n",
    "        for i in range(len(self.train_X)):\n",
    "            dist.append((self.distance(x, self.train_X[i]), self.train_y[i]))\n",
    "        dist.sort()\n",
    "        dist = dist[:self.k]\n",
    "        #pprint(dist)\n",
    "        r = {}\n",
    "        for d in dist:\n",
    "            r[d[1]] = r.get(d[1], 0) + 1\n",
    "        return sorted(r, key = r.get, reverse=True)[0]\n",
    "    \n",
    "def euclidean(a, b):\n",
    "    rv = 0\n",
    "    for i in range(len(a)):\n",
    "        rv += (a[i] - b[i]) ** 2\n",
    "    return sqrt(rv)"
   ]
  },
  {
   "cell_type": "code",
<<<<<<< HEAD
   "execution_count": 6,
   "metadata": {
    "collapsed": false
   },
   "outputs": [
    {
     "data": {
      "image/png": "iVBORw0KGgoAAAANSUhEUgAAAXMAAAEACAYAAABBDJb9AAAABHNCSVQICAgIfAhkiAAAAAlwSFlz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\nAElFTkSuQmCC\n",
      "text/plain": [
       "<matplotlib.figure.Figure at 0xfee06bb048>"
      ]
     },
     "metadata": {},
     "output_type": "display_data"
    }
   ],
=======
   "metadata": {
    "collapsed": false
   },
   "outputs": [],
>>>>>>> 2a6625ee5f7233d6a033dee39b900b58171bb30d
   "source": [
    "def score_SVM(train, test):\n",
    "    X = train[:,[0,1]]\n",
    "    y = train[:,2]\n",
    "    svn = SVM(kernel_type='gaussian')\n",
    "    sv, ite = svn.fit(X, y) # pprint(y.shape) #(40,)\n",
    "    pprint(\"iter = {}\".format(ite))\n",
    "    predicted = []\n",
    "    y = []\n",
    "    for i in test:\n",
    "        res = svn.predict(i[[0,1]])\n",
    "        y.append(i[2])\n",
    "        predicted.append(res)\n",
    "    predicted = to_zero_pos(predicted)\n",
    "    y = to_zero_pos(y)\n",
    "    return f1_score(y, predicted), confusion_matrix(y, predicted)\n",
    "\n",
    "def score_KNN(train, test):\n",
    "    X = train[:, [0,1]]\n",
    "    y = train[:, 2].astype(int)\n",
    "    knn = KNNClassifier(5, euclidean)\n",
    "    knn.train(X, y)\n",
    "    predicted = [knn.predict(x) for *x, y in test]\n",
    "    predicted = to_zero_pos(predicted)\n",
    "    y = to_zero_pos(test[:,2])\n",
    "    return f1_score(y, predicted), confusion_matrix(y, predicted)"
   ]
  },
  {
   "cell_type": "code",
   "metadata": {
    "collapsed": false
   },
   "outputs": [],
   "source": [
    "df = pd.read_csv(\"chips.txt\", header=None, names=[\"x\", \"y\", \"type\"])\n",
    "df['color'] = df['type'].map(lambda x: 'red' if x else 'blue')\n",
    "xx, yy = zip(*[(i[0]**2, i[1]**2) for i in zip(list(df['x']), list(df['y']))])\n",
    "plt.scatter(df['x'], df['y'], c=df['color'])"
   ]
  },
  {
   "cell_type": "code",
<<<<<<< HEAD
   "execution_count": 11,
=======
>>>>>>> 2a6625ee5f7233d6a033dee39b900b58171bb30d
   "metadata": {
    "collapsed": false
   },
   "outputs": [],
   "source": [
    "x_y_type = np.array(list(zip(xx, yy, to_neg_pos(df['type']))))"
   ]
  },
  {
   "cell_type": "code",
<<<<<<< HEAD
   "execution_count": 10,
=======
>>>>>>> 2a6625ee5f7233d6a033dee39b900b58171bb30d
   "metadata": {
    "collapsed": false
   },
   "outputs": [],
   "source": [
<<<<<<< HEAD
    "# test, learn = data[:30], data[30:]\n",
    "# score_MY(learn, test)"
=======
    "kf = KFold(len(x_y_type), n_folds=10, shuffle=True)\n",
    "f1_SVM = []\n",
    "mat_SVM = []\n",
    "f1_KNN = []\n",
    "mat_KNN = []\n",
    "for train_index, test_index in kf:   \n",
    "    res, mat = score_SVM(x_y_type[train_index], x_y_type[test_index])\n",
    "    f1_SVM.append(res)\n",
    "    mat_SVM.append(mat)\n",
    "    res, mat = score_KNN(x_y_type[train_index], x_y_type[test_index])\n",
    "    f1_KNN.append(res)\n",
    "    mat_KNN.append(mat)\n",
    "\n",
    "pprint(\"SVM:\")\n",
    "pprint(f1_SVM)\n",
    "pprint(\"SVM mean = {}\".format(np.mean(f1_SVM)))\n",
    "pprint(\"KNN:\")\n",
    "pprint(f1_KNN)\n",
    "pprint(\"KNN mean = {}\".format(np.mean(f1_KNN)))"
>>>>>>> 2a6625ee5f7233d6a033dee39b900b58171bb30d
   ]
  },
  {
   "cell_type": "code",
<<<<<<< HEAD
   "execution_count": 9,
   "metadata": {
    "collapsed": false
   },
   "outputs": [
    {
     "data": {
      "text/plain": [
       "<matplotlib.collections.PathCollection at 0xfee1003c50>"
      ]
     },
     "execution_count": 9,
     "metadata": {},
     "output_type": "execute_result"
    },
    {
     "data": {
      "image/png": "iVBORw0KGgoAAAANSUhEUgAAAYEAAAEACAYAAABVtcpZAAAABHNCSVQICAgIfAhkiAAAAAlwSFlz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\nAnMTMDMrsP8BgV+QpoSj89QAAAAASUVORK5CYII=\n",
      "text/plain": [
       "<matplotlib.figure.Figure at 0xfee0f84908>"
      ]
     },
     "metadata": {},
     "output_type": "display_data"
    }
   ],
=======
   "metadata": {
    "collapsed": false
   },
   "outputs": [],
>>>>>>> 2a6625ee5f7233d6a033dee39b900b58171bb30d
   "source": [
    "mat_KNN"
   ]
  },
  {
   "cell_type": "code",
   "metadata": {
    "collapsed": false
   },
   "outputs": [],
   "source": [
    "mat_SVM"
   ]
  },
  {
   "cell_type": "code",
   "metadata": {
    "collapsed": false
   },
   "outputs": [],
   "source": [
    "def __wilcoxon(x1, x2):\n",
    "    # 0 \u2014 sgn, 1 \u2014 abs\n",
    "    values = []\n",
    "    for i in range(len(x1)):\n",
    "        if abs(x2[i] - x1[i]) != 0:\n",
    "            values.append([np.sign(x2[i] - x1[i]), abs(x2[i] - x1[i])])\n",
    "    values.sort(key=lambda p:p[1])\n",
    "    print(values)\n",
    "    W = 0\n",
    "    for i in range(len(values)):\n",
    "        W += values[i][0] * values[i][1]\n",
    "    W = abs(W)\n",
    "    print(\"W=\", W)\n",
    "    Nr = len(values)\n",
    "    print(\"Nr =\", Nr)\n",
    "    Wok = Nr * (Nr + 1) * (2 * Nr + 1) / 6.0\n",
    "#     print(Wok)\n",
    "    return W"
   ]
  },
  {
   "cell_type": "code",
   "metadata": {
    "collapsed": false
   },
   "outputs": [],
   "source": [
    "__wilcoxon(f1_KNN, f1_SVM)"
   ]
  },
  {
   "cell_type": "code",
   "metadata": {
    "collapsed": false
   },
   "outputs": [],
   "source": [
    "ans = sum([((i[0] - i[1]) ** 2) / i[0] for i in zip(f1_KNN, f1_SVM)]) * 100\n",
    "ans"
   ]
  },
  {
   "cell_type": "code",
   "execution_count": 14,
   "metadata": {
    "collapsed": true
   },
   "outputs": [],
   "source": [
    "def Wilcoxon(x1, x2):\n",
    "    # 0 -- sgn, 1 -- abs\n",
    "    values = []    \n",
    "    for i in range(len(x1)):\n",
    "        if abs(x2[i] - x1[i]) != 0:\n",
    "            values.append([sgn(x2[i] - x1[i]), abs(x2[i] - x1[i])])\n",
    "    values.sort(key=lambda p:p[1])\n",
    "    print(values)\n",
    "    for i in range(len(values)):\n",
    "        W += values[0] * values[2]\n",
    "    W = abs(W)\n",
    "    print(\"W=\", W)\n",
    "    Nr = len(values)\n",
    "    print(\"Nr =\", Nr)\n",
    "    Wok = Nr * (Nr + 1) * (2 * Nr + 1) / 6.0\n",
    "    print(Wok)\n",
    "            "
   ]
  },
  {
   "cell_type": "code",
   "execution_count": null,
   "metadata": {
    "collapsed": true
   },
   "outputs": [],
   "source": []
  }
 ],
 "metadata": {
  "anaconda-cloud": {},
  "git": {
   "suppress_outputs": true
  },
  "kernelspec": {
<<<<<<< HEAD
   "display_name": "Python [Root]",
=======
   "display_name": "Python [default]",
>>>>>>> 2a6625ee5f7233d6a033dee39b900b58171bb30d
   "language": "python",
   "name": "Python [Root]"
  },
  "language_info": {
   "codemirror_mode": {
    "name": "ipython",
    "version": 3
   },
   "file_extension": ".py",
   "mimetype": "text/x-python",
   "name": "python",
   "nbconvert_exporter": "python",
   "pygments_lexer": "ipython3",
   "version": "3.5.2"
  }
 },
 "nbformat": 4,
 "nbformat_minor": 0
}