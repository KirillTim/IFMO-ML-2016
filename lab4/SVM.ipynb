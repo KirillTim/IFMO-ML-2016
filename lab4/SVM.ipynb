{
 "cells": [
  {
   "cell_type": "code",
   "execution_count": 156,
   "metadata": {
    "collapsed": false
   },
   "outputs": [],
   "source": [
    "%matplotlib inline\n",
    "import numpy as np\n",
    "import numpy.linalg as la\n",
    "import pandas as pd\n",
    "from sklearn.cross_validation import KFold\n",
    "import matplotlib.pyplot as plt\n",
    "import matplotlib.cm as cm\n",
    "import itertools\n",
    "from pprint import pprint\n",
    "import random as rnd\n",
    "from math import sqrt\n",
    "from sklearn.metrics import f1_score, confusion_matrix\n",
    "from scipy.stats import wilcoxon"
   ]
  },
  {
   "cell_type": "code",
   "execution_count": 4,
   "metadata": {
    "collapsed": false
   },
   "outputs": [],
   "source": [
    "def plot(predictor, X, y, grid_size, filename):\n",
    "    x_min, x_max = X[:, 0].min() - 1, X[:, 0].max() + 1\n",
    "    y_min, y_max = X[:, 1].min() - 1, X[:, 1].max() + 1\n",
    "    xx, yy = np.meshgrid(np.linspace(x_min, x_max, grid_size),\n",
    "                         np.linspace(y_min, y_max, grid_size),\n",
    "                         indexing='ij')\n",
    "    flatten = lambda m: np.array(m).reshape(-1,)\n",
    "\n",
    "    result = []\n",
    "    for (i, j) in itertools.product(range(grid_size), range(grid_size)):\n",
    "        point = np.array([xx[i, j], yy[i, j]]).reshape(1, 2)\n",
    "        result.append(predictor.predict(point))\n",
    "\n",
    "    Z = np.array(result).reshape(xx.shape)\n",
    "\n",
    "    plt.contourf(xx, yy, Z,\n",
    "                 cmap=cm.Paired,\n",
    "                 levels=[-0.001, 0.001],\n",
    "                 extend='both',\n",
    "                 alpha=0.8)\n",
    "    plt.scatter(flatten(X[:, 0]), flatten(X[:, 1]),\n",
    "                c=flatten(y), cmap=cm.Paired)\n",
    "    plt.xlim(x_min, x_max)\n",
    "    plt.ylim(y_min, y_max)\n",
    "    plt.savefig(filename)"
   ]
  },
  {
   "cell_type": "code",
   "execution_count": 100,
   "metadata": {
    "collapsed": false
   },
   "outputs": [],
   "source": [
    "def to_zero_pos(arr):\n",
    "    return [0 if i < 0 else 1 for i in arr]\n",
    "\n",
    "def to_neg_pos(arr):\n",
    "    return [-1 if i == 0 else 1 for i in arr]"
   ]
  },
  {
   "cell_type": "code",
   "execution_count": 185,
   "metadata": {
    "collapsed": true
   },
   "outputs": [],
   "source": [
    "class SVM():\n",
    "    \"\"\"\n",
    "        http://cs229.stanford.edu/materials/smo.pdf\n",
    "    \"\"\"\n",
    "    def __init__(self, max_iter=10000, kernel_type='linear', C=1.0, epsilon=0.001):\n",
    "        self.kernels = {\n",
    "            'linear' : self.kernel_linear,\n",
    "            'quadratic' : self.kernel_quadratic,\n",
    "            'gaussian' : self.kernel_gaussian\n",
    "        }\n",
    "        self.max_iter = max_iter\n",
    "        self.kernel_type = kernel_type\n",
    "        self.C = C\n",
    "        self.epsilon = epsilon\n",
    "        \n",
    "    def fit(self, X, y):\n",
    "        # Initialization\n",
    "        n, d = X.shape[0], X.shape[1]\n",
    "        alpha = np.zeros((n))\n",
    "        kernel = self.kernels[self.kernel_type]\n",
    "        count = 0\n",
    "        while True:\n",
    "            count += 1\n",
    "            alpha_prev = np.copy(alpha)\n",
    "            for j in range(0, n):\n",
    "                i = self.get_rnd_int(0, n-1, j)\n",
    "                x_i, x_j, y_i, y_j = X[i,:], X[j,:], y[i], y[j]\n",
    "                k_ij = kernel(x_i, x_i) + kernel(x_j, x_j) - 2 * kernel(x_i, x_j)\n",
    "                if k_ij == 0:\n",
    "                    continue\n",
    "                alpha_prime_j, alpha_prime_i = alpha[j], alpha[i]\n",
    "                (L, H) = self.compute_L_H(self.C, alpha_prime_j, alpha_prime_i, y_j, y_i)\n",
    "\n",
    "                # Compute model parameters\n",
    "                self.w = self.calc_w(alpha, y, X)\n",
    "                self.b = self.calc_b(X, y, self.w)\n",
    "\n",
    "                # Compute E_i, E_j\n",
    "                E_i = self.E(x_i, y_i, self.w, self.b)\n",
    "                E_j = self.E(x_j, y_j, self.w, self.b)\n",
    "\n",
    "                # Set new alpha values\n",
    "                alpha[j] = alpha_prime_j + float(y_j * (E_i - E_j))/k_ij\n",
    "                alpha[j] = max(alpha[j], L)\n",
    "                alpha[j] = min(alpha[j], H)\n",
    "\n",
    "                alpha[i] = alpha_prime_i + y_i*y_j * (alpha_prime_j - alpha[j])\n",
    "\n",
    "            # Check convergence\n",
    "            diff = np.linalg.norm(alpha - alpha_prev)\n",
    "            if diff < self.epsilon:\n",
    "                break\n",
    "\n",
    "            if count >= self.max_iter:\n",
    "                print(\"Iteration number exceeded the max of %d iterations\" % (self.max_iter))\n",
    "                return\n",
    "        # Compute final model parameters\n",
    "        self.b = self.calc_b(X, y, self.w)\n",
    "        if self.kernel_type == 'linear':\n",
    "            self.w = self.calc_w(alpha, y, X)\n",
    "        # Get support vectors\n",
    "        alpha_idx = np.where(alpha > 0)[0]\n",
    "        #pprint(\"support vectors:\")\n",
    "        #pprint(alpha_idx)\n",
    "        support_vectors = X[alpha_idx, :]\n",
    "        return support_vectors, count\n",
    "    \n",
    "    def predict(self, X):\n",
    "        return self.h(X, self.w, self.b)\n",
    "    def calc_b(self, X, y, w):\n",
    "        b_tmp = y - np.dot(w.T, X.T)\n",
    "        return np.mean(b_tmp)\n",
    "    def calc_w(self, alpha, y, X):\n",
    "        return np.dot(alpha * y, X)\n",
    "    # Prediction\n",
    "    def h(self, X, w, b):\n",
    "        return np.sign(np.dot(w.T, X.T) + b).item() #.astype(int)\n",
    "    # Prediction error\n",
    "    def E(self, x_k, y_k, w, b):\n",
    "        return self.h(x_k, w, b) - y_k\n",
    "    def compute_L_H(self, C, alpha_prime_j, alpha_prime_i, y_j, y_i):\n",
    "        if(y_i != y_j):\n",
    "            return (max(0, alpha_prime_j - alpha_prime_i), min(C, C - alpha_prime_i + alpha_prime_j))\n",
    "        else:\n",
    "            return (max(0, alpha_prime_i + alpha_prime_j - C), min(C, alpha_prime_i + alpha_prime_j))\n",
    "    def get_rnd_int(self, a,b,z):\n",
    "        i = z\n",
    "        while i == z:\n",
    "            i = rnd.randint(a,b)\n",
    "        return i\n",
    "    # Define kernels\n",
    "    def kernel_linear(self, x1, x2):\n",
    "        return np.dot(x1, x2.T)\n",
    "    def kernel_quadratic(self, x1, x2):\n",
    "        return (np.dot(x1, x2.T) ** 2)  \n",
    "    def kernel_gaussian(self, x, y):\n",
    "        sigma = 0.02\n",
    "        exponent = -np.sqrt(la.norm(x-y) ** 2 / (2 * sigma ** 2))\n",
    "        return np.exp(exponent)\n",
    "        "
   ]
  },
  {
   "cell_type": "code",
   "execution_count": 113,
   "metadata": {
    "collapsed": true
   },
   "outputs": [],
   "source": [
    "class KNNClassifier():\n",
    "    def __init__(self, k, distance):\n",
    "        self.k = k;\n",
    "        self.distance = distance\n",
    "        \n",
    "    def train(self, X, y):\n",
    "        self.train_X = X\n",
    "        self.train_y = y\n",
    "        self.k = min(self.k, len(X))\n",
    "        \n",
    "    def predict(self, x):\n",
    "        dist = []\n",
    "        for i in range(len(self.train_X)):\n",
    "            dist.append((self.distance(x, self.train_X[i]), self.train_y[i]))\n",
    "        dist.sort()\n",
    "        dist = dist[:self.k]\n",
    "        #pprint(dist)\n",
    "        r = {}\n",
    "        for d in dist:\n",
    "            r[d[1]] = r.get(d[1], 0) + 1\n",
    "        return sorted(r, key = r.get, reverse=True)[0]\n",
    "    \n",
    "def euclidean(a, b):\n",
    "    rv = 0\n",
    "    for i in range(len(a)):\n",
    "        rv += (a[i] - b[i]) ** 2\n",
    "    return sqrt(rv)"
   ]
  },
  {
   "cell_type": "code",
   "execution_count": 196,
   "metadata": {
    "collapsed": false
   },
   "outputs": [],
   "source": [
    "def score_SVM(train, test):\n",
    "    X = train[:,[0,1]]\n",
    "    y = train[:,2]\n",
    "    svn = SVM(kernel_type='gaussian')\n",
    "    sv, ite = svn.fit(X, y) # pprint(y.shape) #(40,)\n",
    "    pprint(\"iter = {}\".format(ite))\n",
    "    predicted = []\n",
    "    y = []\n",
    "    for i in test:\n",
    "        res = svn.predict(i[[0,1]])\n",
    "        y.append(i[2])\n",
    "        predicted.append(res)\n",
    "    predicted = to_zero_pos(predicted)\n",
    "    y = to_zero_pos(y)\n",
    "    return f1_score(y, predicted), confusion_matrix(y, predicted)\n",
    "\n",
    "def score_KNN(train, test):\n",
    "    X = train[:, [0,1]]\n",
    "    y = train[:, 2].astype(int)\n",
    "    knn = KNNClassifier(5, euclidean)\n",
    "    knn.train(X, y)\n",
    "    predicted = [knn.predict(x) for *x, y in test]\n",
    "    predicted = to_zero_pos(predicted)\n",
    "    y = to_zero_pos(test[:,2])\n",
    "    return f1_score(y, predicted), confusion_matrix(y, predicted)"
   ]
  },
  {
   "cell_type": "code",
   "execution_count": 181,
   "metadata": {
    "collapsed": false
   },
   "outputs": [
    {
     "data": {
      "text/plain": [
       "<matplotlib.collections.PathCollection at 0x7f2b1d4a4c88>"
      ]
     },
     "execution_count": 181,
     "metadata": {},
     "output_type": "execute_result"
    },
    {
     "data": {
      "image/png": "[encoded data removed]",
      "text/plain": [
       "<matplotlib.figure.Figure at 0x7f2b1d57d588>"
      ]
     },
     "metadata": {},
     "output_type": "display_data"
    }
   ],
   "source": [
    "df = pd.read_csv(\"chips.txt\", header=None, names=[\"x\", \"y\", \"type\"])\n",
    "df['color'] = df['type'].map(lambda x: 'red' if x else 'blue')\n",
    "xx, yy = zip(*[(i[0]**2, i[1]**2) for i in zip(list(df['x']), list(df['y']))])\n",
    "plt.scatter(df['x'], df['y'], c=df['color'])"
   ]
  },
  {
   "cell_type": "code",
   "execution_count": 192,
   "metadata": {
    "collapsed": false
   },
   "outputs": [],
   "source": [
    "x_y_type = np.array(list(zip(xx, yy, to_neg_pos(df['type']))))"
   ]
  },
  {
   "cell_type": "code",
   "execution_count": 197,
   "metadata": {
    "collapsed": false
   },
   "outputs": [
    {
     "name": "stdout",
     "output_type": "stream",
     "text": [
      "'iter = 7'\n",
      "'iter = 4'\n",
      "'iter = 6'\n",
      "'iter = 6'\n",
      "'iter = 6'\n",
      "'iter = 6'\n",
      "'iter = 3'\n",
      "'iter = 6'\n",
      "'iter = 7'\n",
      "'iter = 6'\n",
      "'SVM:'\n",
      "[0.66666666666666663,\n",
      " 0.44444444444444448,\n",
      " 0.61538461538461542,\n",
      " 0.80000000000000004,\n",
      " 0.72727272727272718,\n",
      " 0.8571428571428571,\n",
      " 0.7142857142857143,\n",
      " 0.8571428571428571,\n",
      " 0.83333333333333337,\n",
      " 0.83333333333333326]\n",
      "'SVM mean = 0.7349006549006548'\n",
      "'KNN:'\n",
      "[0.66666666666666663,\n",
      " 0.66666666666666652,\n",
      " 0.66666666666666663,\n",
      " 0.75,\n",
      " 0.54545454545454541,\n",
      " 0.54545454545454541,\n",
      " 0.87500000000000011,\n",
      " 0.87500000000000011,\n",
      " 0.76923076923076916,\n",
      " 0.76923076923076927]\n",
      "'KNN mean = 0.7129370629370628'\n"
     ]
    }
   ],
   "source": [
    "kf = KFold(len(x_y_type), n_folds=10, shuffle=True)\n",
    "f1_SVM = []\n",
    "mat_SVM = []\n",
    "f1_KNN = []\n",
    "mat_KNN = []\n",
    "for train_index, test_index in kf:   \n",
    "    res, mat = score_SVM(x_y_type[train_index], x_y_type[test_index])\n",
    "    f1_SVM.append(res)\n",
    "    mat_SVM.append(mat)\n",
    "    res, mat = score_KNN(x_y_type[train_index], x_y_type[test_index])\n",
    "    f1_KNN.append(res)\n",
    "    mat_KNN.append(mat)\n",
    "\n",
    "pprint(\"SVM:\")\n",
    "pprint(f1_SVM)\n",
    "pprint(\"SVM mean = {}\".format(np.mean(f1_SVM)))\n",
    "pprint(\"KNN:\")\n",
    "pprint(f1_KNN)\n",
    "pprint(\"KNN mean = {}\".format(np.mean(f1_KNN)))"
   ]
  },
  {
   "cell_type": "code",
   "execution_count": 140,
   "metadata": {
    "collapsed": false
   },
   "outputs": [
    {
     "data": {
      "text/plain": [
       "[array([[11,  2],\n",
       "        [ 3,  8]]), array([[ 8,  5],\n",
       "        [ 1, 10]]), array([[6, 5],\n",
       "        [4, 9]]), array([[ 2,  4],\n",
       "        [ 6, 11]]), array([[11,  6],\n",
       "        [ 2,  4]])]"
      ]
     },
     "execution_count": 140,
     "metadata": {},
     "output_type": "execute_result"
    }
   ],
   "source": [
    "mat_KNN"
   ]
  },
  {
   "cell_type": "code",
   "execution_count": 141,
   "metadata": {
    "collapsed": false
   },
   "outputs": [
    {
     "data": {
      "text/plain": [
       "[array([[10,  3],\n",
       "        [ 2,  9]]), array([[7, 6],\n",
       "        [3, 8]]), array([[ 8,  3],\n",
       "        [ 2, 11]]), array([[ 3,  3],\n",
       "        [ 5, 12]]), array([[13,  4],\n",
       "        [ 2,  4]])]"
      ]
     },
     "execution_count": 141,
     "metadata": {},
     "output_type": "execute_result"
    }
   ],
   "source": [
    "mat_SVM"
   ]
  },
  {
   "cell_type": "code",
   "execution_count": 165,
   "metadata": {
    "collapsed": false
   },
   "outputs": [],
   "source": [
    "def __wilcoxon(x1, x2):\n",
    "    # 0 — sgn, 1 — abs\n",
    "    values = []\n",
    "    for i in range(len(x1)):\n",
    "        if abs(x2[i] - x1[i]) != 0:\n",
    "            values.append([np.sign(x2[i] - x1[i]), abs(x2[i] - x1[i])])\n",
    "    values.sort(key=lambda p:p[1])\n",
    "    print(values)\n",
    "    W = 0\n",
    "    for i in range(len(values)):\n",
    "        W += values[i][0] * values[i][1]\n",
    "    W = abs(W)\n",
    "    print(\"W=\", W)\n",
    "    Nr = len(values)\n",
    "    print(\"Nr =\", Nr)\n",
    "    Wok = Nr * (Nr + 1) * (2 * Nr + 1) / 6.0\n",
    "#     print(Wok)\n",
    "    return W"
   ]
  },
  {
   "cell_type": "code",
   "execution_count": 170,
   "metadata": {
    "collapsed": false
   },
   "outputs": [
    {
     "name": "stdout",
     "output_type": "stream",
     "text": [
      "[[1.0, 0.011520737327188946], [1.0, 0.028985507246376829], [-1.0, 0.030000000000000249], [-1.0, 0.082608695652173769], [1.0, 0.091304347826087096]]\n",
      "W= 0.0192018967475\n",
      "Nr = 5\n"
     ]
    },
    {
     "data": {
      "text/plain": [
       "0.019201896747478853"
      ]
     },
     "execution_count": 170,
     "metadata": {},
     "output_type": "execute_result"
    }
   ],
   "source": [
    "__wilcoxon(f1_KNN, f1_SVM)"
   ]
  },
  {
   "cell_type": "code",
   "execution_count": 180,
   "metadata": {
    "collapsed": false
   },
   "outputs": [
    {
     "data": {
      "text/plain": [
       "16.570102377903567"
      ]
     },
     "execution_count": 180,
     "metadata": {},
     "output_type": "execute_result"
    }
   ],
   "source": [
    "ans = sum([((i[0] - i[1]) ** 2) / i[0] for i in zip(f1_KNN, f1_SVM)]) * 100\n",
    "ans"
   ]
  }
 ],
 "metadata": {
  "anaconda-cloud": {},
  "git": {
   "suppress_outputs": true
  },
  "kernelspec": {
   "display_name": "Python 3",
   "language": "python",
   "name": "python3"
  },
  "language_info": {
   "codemirror_mode": {
    "name": "ipython",
    "version": 3
   },
   "file_extension": ".py",
   "mimetype": "text/x-python",
   "name": "python",
   "nbconvert_exporter": "python",
   "pygments_lexer": "ipython3",
   "version": "3.5.1"
  }
 },
 "nbformat": 4,
 "nbformat_minor": 0
}
