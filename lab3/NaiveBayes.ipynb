{
 "cells": [
  {
   "cell_type": "code",
   "execution_count": 76,
   "metadata": {
    "collapsed": true
   },
   "outputs": [],
   "source": [
    "%matplotlib inline\n",
    "import numpy as np\n",
    "import pandas as pd\n",
    "from pprint import pprint\n",
    "from os import listdir\n",
    "from os.path import isfile, join\n",
    "from decimal import *"
   ]
  },
  {
   "cell_type": "code",
   "execution_count": 241,
   "metadata": {
    "collapsed": false
   },
   "outputs": [],
   "source": [
    "class NaiveBayes():\n",
    "    def __init__(self):\n",
    "        self.words = {}\n",
    "        self.words[\"legit\"] = {\"subj\" : {}, \"body\" : {}}\n",
    "        self.words[\"spam\"] = {\"subj\" : {}, \"body\" : {}}\n",
    "        self.total_count = 0\n",
    "        self.count = {\"legit\" : 0, \"spam\" : 0}\n",
    "        \n",
    "    def __calc_prob(self, cls):\n",
    "        #total = sum(list(words[cls][\"subj\"].values())))\n",
    "        total = Decimal(sum(list(self.words[cls][\"body\"].values())))\n",
    "        self.words[cls][\"prob\"] = {}\n",
    "        for word, count in self.words[cls][\"body\"].items():\n",
    "            self.words[cls][\"prob\"][word] = Decimal(count) / total\n",
    "    \n",
    "        \n",
    "    def train(self, mails):\n",
    "        self.total_count = len(mails)\n",
    "        for mail in mails:\n",
    "            cls, subj, body = mail\n",
    "            self.count[cls] += 1\n",
    "            for w in subj:\n",
    "                self.words[cls][\"subj\"][w] = self.words[cls][\"subj\"].get(w, 0) + 1\n",
    "            for w in body:\n",
    "                self.words[cls][\"body\"][w] = self.words[cls][\"body\"].get(w, 0) + 1\n",
    "        self.__calc_prob(\"legit\")\n",
    "        self.__calc_prob(\"spam\")\n",
    "        \n",
    "    def classify(self, subj, body):\n",
    "        score_legit = Decimal(self.count[\"legit\"]) / Decimal(self.total_count)\n",
    "        score_spam = Decimal(self.count[\"spam\"]) / Decimal(self.total_count)\n",
    "        #pprint((score_legit, score_spam))\n",
    "        for word in body:\n",
    "            if word in self.words[\"legit\"][\"body\"] and word in self.words[\"spam\"][\"body\"]:\n",
    "                score_legit *= self.words[\"legit\"][\"prob\"].get(word, Decimal(1))\n",
    "                score_spam *= self.words[\"spam\"][\"prob\"].get(word, Decimal(1))\n",
    "        #pprint ((score_legit, score_spam))\n",
    "        if score_spam > score_legit:\n",
    "            return \"spam\"\n",
    "        return \"legit\""
   ]
  },
  {
   "cell_type": "code",
   "execution_count": 228,
   "metadata": {
    "collapsed": false
   },
   "outputs": [],
   "source": [
    "def read_mail(filename):\n",
    "    lines = [line[:-1] for line in open(filename, \"r\").readlines()]\n",
    "    subj = lines[0][len(\"Subject: \"):].split(\" \")\n",
    "    if subj and subj[0]:\n",
    "        subj = [int(i) for i in subj]\n",
    "    else:\n",
    "        subj = []\n",
    "    body = lines[2].split(\" \")\n",
    "    if body and body[0]:\n",
    "        body = [int(i) for i in body]\n",
    "    else:\n",
    "        body = []\n",
    "    cls = \"legit\" if \"legit\" in filename else \"spam\"\n",
    "    return (cls, subj, body)\n",
    "\n",
    "def files_in_block(index):\n",
    "    mypath = \"data/part{}/\".format(index)\n",
    "    onlyfiles = [join(mypath, f) for f in listdir(mypath) if isfile(join(mypath, f))]\n",
    "    return onlyfiles"
   ]
  },
  {
   "cell_type": "code",
   "execution_count": 229,
   "metadata": {
    "collapsed": true
   },
   "outputs": [],
   "source": [
    "def f1score(theory, practice):\n",
    "    tp, fn, fp, tn = 0, 0, 0, 0\n",
    "    for i in range(len(theory)):\n",
    "        tp += theory[i] == practice[i] and practice[i] == 1\n",
    "        tn += theory[i] == practice[i] and practice[i] == 0\n",
    "        fn = sum(practice) - tp\n",
    "        fp = (len(practice) - sum(practice)) - tn\n",
    "    precision = tp / (tp + fp)\n",
    "    recall = tp / (tp + fn)\n",
    "    return (2 * precision * recall / (precision + recall), fn, fp)"
   ]
  },
  {
   "cell_type": "code",
   "execution_count": 242,
   "metadata": {
    "collapsed": false
   },
   "outputs": [],
   "source": [
    "all_files = []\n",
    "for i in range(1, 10):\n",
    "    for f in files_in_block(i):\n",
    "        all_files.append(f)\n",
    "mails = [read_mail(m) for m in all_files]\n",
    "classifier = NaiveBayes()\n",
    "classifier.train(mails)"
   ]
  },
  {
   "cell_type": "code",
   "execution_count": 243,
   "metadata": {
    "collapsed": false
   },
   "outputs": [],
   "source": [
    "mail = [read_mail(f) for f in files_in_block(10)] \n",
    "true_y = list(map(lambda x: 1 if x is \"spam\" else 0, [i[0] for i in mail]))\n",
    "data = [(i[1], i[2]) for i in mail]"
   ]
  },
  {
   "cell_type": "code",
   "execution_count": 244,
   "metadata": {
    "collapsed": false
   },
   "outputs": [],
   "source": [
    "predicted = [classifier.classify(i[0], i[1]) for i in data]\n",
    "predicted_y = list(map(lambda x: 1 if x is \"spam\" else 0 , predicted))"
   ]
  },
  {
   "cell_type": "code",
   "execution_count": 245,
   "metadata": {
    "collapsed": false
   },
   "outputs": [
    {
     "data": {
      "text/plain": [
       "(0.9306930693069307, 6, 1)"
      ]
     },
     "execution_count": 245,
     "metadata": {},
     "output_type": "execute_result"
    }
   ],
   "source": [
    "f1score(ans, predicted_y)"
   ]
  },
  {
   "cell_type": "code",
   "execution_count": 250,
   "metadata": {
    "collapsed": false
   },
   "outputs": [
    {
     "name": "stdout",
     "output_type": "stream",
     "text": [
      "55\n"
     ]
    }
   ],
   "source": [
    "for i in range(len(true_y)):\n",
    "    if true_y[i] != predicted_y[i] and predicted_y[i] == 0:\n",
    "        print(i)"
   ]
  },
  {
   "cell_type": "code",
   "execution_count": 249,
   "metadata": {
    "collapsed": false
   },
   "outputs": [
    {
     "data": {
      "text/plain": [
       "('legit',\n",
       " [3735, 24183, 6567, 14108, 10930, 773, 82, 9118],\n",
       " [284,\n",
       "  10092,\n",
       "  9561,\n",
       "  17798,\n",
       "  80,\n",
       "  2176,\n",
       "  5657,\n",
       "  9472,\n",
       "  2130,\n",
       "  19163,\n",
       "  17345,\n",
       "  18957,\n",
       "  16502,\n",
       "  6567,\n",
       "  14338,\n",
       "  16502,\n",
       "  12359,\n",
       "  3735,\n",
       "  24183,\n",
       "  13472,\n",
       "  14108,\n",
       "  1835,\n",
       "  97,\n",
       "  69,\n",
       "  84,\n",
       "  23607,\n",
       "  9583,\n",
       "  15964,\n",
       "  9408,\n",
       "  13665,\n",
       "  1663,\n",
       "  18776,\n",
       "  13383,\n",
       "  1967,\n",
       "  18996,\n",
       "  2130,\n",
       "  2170,\n",
       "  1991,\n",
       "  19206,\n",
       "  84,\n",
       "  1812,\n",
       "  17345,\n",
       "  4339,\n",
       "  6427,\n",
       "  17753,\n",
       "  16502,\n",
       "  6567,\n",
       "  80,\n",
       "  23607,\n",
       "  4520,\n",
       "  19054,\n",
       "  7634,\n",
       "  84,\n",
       "  23266,\n",
       "  24097,\n",
       "  80,\n",
       "  15031,\n",
       "  13406,\n",
       "  2377])"
      ]
     },
     "execution_count": 249,
     "metadata": {},
     "output_type": "execute_result"
    }
   ],
   "source": [
    "mail[5]"
   ]
  }
 ],
 "metadata": {
  "anaconda-cloud": {},
  "kernelspec": {
   "display_name": "Python [Root]",
   "language": "python",
   "name": "Python [Root]"
  }
 },
 "nbformat": 4,
 "nbformat_minor": 0
}
