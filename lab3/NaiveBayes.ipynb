{
 "cells": [
  {
   "cell_type": "code",
   "metadata": {
    "collapsed": true
   },
   "outputs": [],
   "source": [
    "%matplotlib inline\n",
    "import numpy as np\n",
    "import pandas as pd\n",
    "from pprint import pprint\n",
    "from os import listdir\n",
    "from os.path import isfile, join\n",
    "from decimal import *"
   ]
  },
  {
   "cell_type": "code",
   "metadata": {
    "collapsed": false
   },
   "outputs": [],
   "source": [
    "class NaiveBayes():\n",
    "    def __init__(self):\n",
    "        self.words = {}\n",
    "        self.words[\"legit\"] = {\"subj\" : {}, \"body\" : {}}\n",
    "        self.words[\"spam\"] = {\"subj\" : {}, \"body\" : {}}\n",
    "        self.total_count = 0\n",
    "        self.count = {\"legit\" : 0, \"spam\" : 0}\n",
    "        \n",
    "    def __calc_prob_body_only(self, cls):\n",
    "        self.words[cls][\"prob\"] = {}\n",
    "        total = Decimal(sum(list(self.words[cls][\"body\"].values())))\n",
    "        for word, count in self.words[cls][\"body\"].items():\n",
    "            self.words[cls][\"prob\"][word] = Decimal(count) / total\n",
    "\n",
    "    def __calc_prob_body_subj(self, cls):\n",
    "        self.words[cls][\"prob\"] = {}\n",
    "        all_words = {}\n",
    "        for w, count in self.words[cls][\"subj\"].items():\n",
    "            all_words[w] = count\n",
    "        for w, count in self.words[cls][\"body\"].items():\n",
    "            all_words[w] = all_words.get(w, 0) + count\n",
    "        total = Decimal(sum(list(all_words.values())))\n",
    "        for word, count in all_words.items():\n",
    "            self.words[cls][\"prob\"][word] = Decimal(count) / total\n",
    "    \n",
    "    def __calc_prob_body_subj_weighted(self, cls):\n",
    "        self.words[cls][\"prob\"] = {}\n",
    "        all_words = {}\n",
    "        for w, count in self.words[cls][\"subj\"].items():\n",
    "            all_words[w] = count\n",
    "        for w, count in self.words[cls][\"body\"].items():\n",
    "            all_words[w] = all_words.get(w, 0) + count\n",
    "        total = Decimal(sum(list(all_words.values())))\n",
    "        for word, count in all_words.items():\n",
    "            self.words[cls][\"prob\"][word] = Decimal(count) / total\n",
    "            #if cls == \"spam\" and word in self.words[cls][\"subj\"]:\n",
    "            #    self.words[cls][\"prob\"][word] = self.words[cls][\"prob\"][word] * Decimal(2)\n",
    "            \n",
    "    def __add_words(self, mails):\n",
    "        self.total_count = len(mails)\n",
    "        for mail in mails:\n",
    "            cls, subj, body = mail\n",
    "            self.count[cls] += 1\n",
    "            for w in subj:\n",
    "                self.words[cls][\"subj\"][w] = self.words[cls][\"subj\"].get(w, 0) + 1\n",
    "            for w in body:\n",
    "                self.words[cls][\"body\"][w] = self.words[cls][\"body\"].get(w, 0) + 1\n",
    "        for w in self.words[\"spam\"][\"subj\"]:\n",
    "            if w not in self.words[\"legit\"][\"subj\"]:\n",
    "                self.words[\"legit\"][\"subj\"][w] = 1\n",
    "        for w in self.words[\"spam\"][\"body\"]:\n",
    "            if w not in self.words[\"legit\"][\"body\"]:\n",
    "                self.words[\"legit\"][\"body\"][w] = 1\n",
    "        for w in self.words[\"legit\"][\"subj\"]:\n",
    "            if w not in self.words[\"spam\"][\"subj\"]:\n",
    "                self.words[\"spam\"][\"subj\"][w] = 1\n",
    "        for w in self.words[\"legit\"][\"body\"]:\n",
    "            if w not in self.words[\"spam\"][\"body\"]:\n",
    "                self.words[\"spam\"][\"body\"][w] = 1\n",
    "        \n",
    "    \n",
    "    def train_body_subj_weighted(self, mails):\n",
    "        self.__add_words(mails)\n",
    "        self.__calc_prob_body_subj_weighted(\"legit\")\n",
    "        self.__calc_prob_body_subj_weighted(\"spam\")\n",
    "    \n",
    "    def train_body_subj(self, mails):\n",
    "        self.__add_words(mails)\n",
    "        self.__calc_prob_body_subj(\"legit\")\n",
    "        self.__calc_prob_body_subj(\"spam\")\n",
    "        \n",
    "    def train(self, mails):\n",
    "        self.__add_words(mails)\n",
    "        self.__calc_prob_body_only(\"legit\")\n",
    "        self.__calc_prob_body_only(\"spam\")\n",
    "        \n",
    "    def classify(self, subj, body):\n",
    "        score_legit = Decimal(self.count[\"legit\"]) / Decimal(self.total_count)\n",
    "        score_spam = Decimal(self.count[\"spam\"]) / Decimal(self.total_count)\n",
    "        #pprint((score_legit, score_spam))\n",
    "        for word in body:\n",
    "            if word in self.words[\"legit\"][\"prob\"] and word in self.words[\"spam\"][\"prob\"]:\n",
    "                score_legit *= self.words[\"legit\"][\"prob\"][word]\n",
    "                score_spam *= self.words[\"spam\"][\"prob\"][word]\n",
    "        #pprint ((score_legit, score_spam))\n",
    "        if score_spam > score_legit:\n",
    "            return \"spam\"\n",
    "        return \"legit\""
   ]
  },
  {
   "cell_type": "code",
   "metadata": {
    "collapsed": false
   },
   "outputs": [],
   "source": [
    "def read_mail(filename):\n",
    "    lines = [line[:-1] for line in open(filename, \"r\").readlines()]\n",
    "    subj = lines[0][len(\"Subject: \"):].split(\" \")\n",
    "    if subj and subj[0]:\n",
    "        subj = [int(i) for i in subj]\n",
    "    else:\n",
    "        subj = []\n",
    "    body = lines[2].split(\" \")\n",
    "    if body and body[0]:\n",
    "        body = [int(i) for i in body]\n",
    "    else:\n",
    "        body = []\n",
    "    cls = \"legit\" if \"legit\" in filename else \"spam\"\n",
    "    return (cls, subj, body)\n",
    "\n",
    "def files_in_block(index):\n",
    "    mypath = \"data/part{}/\".format(index)\n",
    "    onlyfiles = [join(mypath, f) for f in listdir(mypath) if isfile(join(mypath, f))]\n",
    "    return onlyfiles"
   ]
  },
  {
   "cell_type": "code",
   "metadata": {
    "collapsed": true
   },
   "outputs": [],
   "source": [
    "def f1score(theory, practice):\n",
    "    tp, fn, fp, tn = 0, 0, 0, 0\n",
    "    for i in range(len(theory)):\n",
    "        tp += theory[i] == practice[i] and practice[i] == 1\n",
    "        tn += theory[i] == practice[i] and practice[i] == 0\n",
    "        fn = sum(practice) - tp\n",
    "        fp = (len(practice) - sum(practice)) - tn\n",
    "    precision = tp / (tp + fp)\n",
    "    recall = tp / (tp + fn)\n",
    "    return (2 * precision * recall / (precision + recall), fn, fp)"
   ]
  },
  {
   "cell_type": "code",
   "metadata": {
    "collapsed": true
   },
   "outputs": [],
   "source": [
    "def calc_score(train_range, test, train_function_name):\n",
    "    all_files = []\n",
    "    for i in train_range:\n",
    "        for f in files_in_block(i):\n",
    "            all_files.append(f)\n",
    "    train_mails = [read_mail(m) for m in all_files]\n",
    "    \n",
    "    classifier = NaiveBayes()\n",
    "    #classifier.train(train_mails)\n",
    "    getattr(classifier, train_function_name)(train_mails)\n",
    "    \n",
    "    test_mail = [read_mail(f) for f in files_in_block(test)] \n",
    "    true_y = list(map(lambda x: 1 if x is \"spam\" else 0, [i[0] for i in test_mail]))\n",
    "    data = [(i[1], i[2]) for i in test_mail]\n",
    "    predicted = [classifier.classify(i[0], i[1]) for i in data]\n",
    "    predicted_y = list(map(lambda x: 1 if x is \"spam\" else 0 , predicted))\n",
    "    return f1score(true_y, predicted_y) # f1, good_as_spam, spam_as_good"
   ]
  },
  {
   "cell_type": "code",
   "metadata": {
    "collapsed": false
   },
   "outputs": [],
   "source": [
    "def f1score_list(train_function_name):\n",
    "    tests = [list(range(1,11)) for i in range(1, 11)]\n",
    "    for i in range(10):\n",
    "        del tests[i][i]\n",
    "    scores = [calc_score(tests[i], i+1, train_function_name) for i in range(10)]\n",
    "    return scores\n",
    "\n",
    "def f1score_average(scores):\n",
    "    sums = [0] * len(scores[0])\n",
    "    for s in scores:\n",
    "        for i in range(len(sums)):\n",
    "            sums[i] += s[i]\n",
    "    for i in range(len(sums)):\n",
    "        sums[i] = float(sums[i]) / float(len(scores))\n",
    "    return sums\n",
    "    "
   ]
  },
  {
   "cell_type": "code",
   "metadata": {
    "collapsed": false
   },
   "outputs": [],
   "source": [
    "li = f1score_list(\"train\")\n",
    "li"
   ]
  },
  {
   "cell_type": "code",
   "metadata": {
    "collapsed": false
   },
   "outputs": [],
   "source": [
    "f1score_average(li)"
   ]
  },
  {
   "cell_type": "code",
   "metadata": {
    "collapsed": false
   },
   "outputs": [],
   "source": [
    "li = f1score_list(\"train_body_subj\")\n",
    "li"
   ]
  },
  {
   "cell_type": "code",
   "metadata": {
    "collapsed": false
   },
   "outputs": [],
   "source": [
    "f1score_average(li)"
   ]
  },
  {
   "cell_type": "code",
   "metadata": {
    "collapsed": false
   },
   "outputs": [],
   "source": [
    "li = f1score_list(\"train_body_subj_weighted\")\n",
    "li"
   ]
  },
  {
   "cell_type": "code",
   "metadata": {
    "collapsed": false
   },
   "outputs": [],
   "source": [
    "f1score_average(li)"
   ]
  }
 ],
 "metadata": {
  "anaconda-cloud": {},
  "git": {
   "suppress_outputs": true
  },
  "kernelspec": {
   "display_name": "Python [Root]",
   "language": "python",
   "name": "Python [Root]"
  },
  "language_info": {
   "codemirror_mode": {
    "name": "ipython",
    "version": 3
   },
   "file_extension": ".py",
   "mimetype": "text/x-python",
   "name": "python",
   "nbconvert_exporter": "python",
   "pygments_lexer": "ipython3",
   "version": "3.5.2"
  }
 },
 "nbformat": 4,
 "nbformat_minor": 0
}