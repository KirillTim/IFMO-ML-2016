{
 "cells": [
  {
   "cell_type": "code",
   "execution_count": 76,
   "metadata": {
    "collapsed": true
   },
   "outputs": [],
   "source": [
    "%matplotlib inline\n",
    "import numpy as np\n",
    "import pandas as pd\n",
    "from pprint import pprint\n",
    "from os import listdir\n",
    "from os.path import isfile, join\n",
    "from decimal import *"
   ]
  },
  {
   "cell_type": "code",
   "execution_count": 164,
   "metadata": {
    "collapsed": false
   },
   "outputs": [],
   "source": [
    "class NaiveBayes():\n",
    "    def __init__(self):\n",
    "        self.words = {}\n",
    "        self.words[\"legit\"] = {\"subj\" : {}, \"body\" : {}}\n",
    "        self.words[\"spam\"] = {\"subj\" : {}, \"body\" : {}}\n",
    "        self.total_count = 0\n",
    "        self.count = {\"legit\" : 0, \"spam\" : 0}\n",
    "        \n",
    "    def __calc_prob(self, cls):\n",
    "        #total = sum(list(words[cls][\"subj\"].values())))\n",
    "        total = Decimal(sum(list(self.words[cls][\"body\"].values())))\n",
    "        self.words[cls][\"prob\"] = {}\n",
    "        for word, count in self.words[cls][\"body\"].items():\n",
    "            self.words[cls][\"prob\"][word] = Decimal(count) / total\n",
    "    \n",
    "        \n",
    "    def train(self, mails):\n",
    "        self.total_count = len(mails)\n",
    "        for mail in mails:\n",
    "            cls, subj, body = mail\n",
    "            self.count[cls] += 1\n",
    "            for w in subj:\n",
    "                self.words[cls][\"subj\"][w] = self.words[cls][\"subj\"].get(w, 0) + 1\n",
    "            for w in body:\n",
    "                self.words[cls][\"body\"][w] = self.words[cls][\"body\"].get(w, 0) + 1\n",
    "        self.__calc_prob(\"legit\")\n",
    "        self.__calc_prob(\"spam\")\n",
    "        \n",
    "    def classify(self, subj, body):\n",
    "        score_legit = Decimal(self.count[\"legit\"]) / Decimal(self.total_count)\n",
    "        score_spam = Decimal(self.count[\"spam\"]) / Decimal(self.total_count)\n",
    "        pprint((score_legit, score_spam))\n",
    "        for word in body:\n",
    "            score_legit *= self.words[\"legit\"][\"prob\"].get(word, Decimal(1))\n",
    "            score_spam *= self.words[\"spam\"][\"prob\"].get(word, Decimal(1))\n",
    "        #pprint ((score_legit, score_spam))\n",
    "        if score_spam > score_legit:\n",
    "            return \"spam\"\n",
    "        return \"legit\""
   ]
  },
  {
   "cell_type": "code",
   "execution_count": 155,
   "metadata": {
    "collapsed": false
   },
   "outputs": [],
   "source": [
    "def read_mail(filename):\n",
    "    lines = [line[:-1] for line in open(filename, \"r\").readlines()]\n",
    "    subj = lines[0][len(\"Subject: \"):].split(\" \")\n",
    "    if subj and subj[0]:\n",
    "        subj = [int(i) for i in subj]\n",
    "    else:\n",
    "        subj = []\n",
    "    body = lines[2].split(\" \")\n",
    "    if body and body[0]:\n",
    "        body = [int(i) for i in body]\n",
    "    else:\n",
    "        body = []\n",
    "    cls = \"legit\" if \"legit\" in filename else \"spam\"\n",
    "    return (cls, subj, body)\n",
    "\n",
    "def files_in_block(index):\n",
    "    mypath = \"data/part{}/\".format(index)\n",
    "    onlyfiles = [join(mypath, f) for f in listdir(mypath) if isfile(join(mypath, f))]\n",
    "    return onlyfiles"
   ]
  },
  {
   "cell_type": "code",
   "execution_count": 98,
   "metadata": {
    "collapsed": true
   },
   "outputs": [],
   "source": [
    "def f1score(theory, practice):\n",
    "    tp, fn, fp, tn = 0, 0, 0, 0\n",
    "    for i in range(len(theory)):\n",
    "        tp += theory[i] == practice[i] and practice[i] == 1\n",
    "        tn += theory[i] == practice[i] and practice[i] == 0\n",
    "        fn = sum(practice) - tp\n",
    "        fp = (len(practice) - sum(practice)) - tn\n",
    "    precision = tp / (tp + fp)\n",
    "    recall = tp / (tp + fn)\n",
    "    return (2 * precision * recall / (precision + recall), fn, fp)"
   ]
  },
  {
   "cell_type": "code",
   "execution_count": 165,
   "metadata": {
    "collapsed": false
   },
   "outputs": [],
   "source": [
    "all_files = []\n",
    "for i in range(1, 10):\n",
    "    for f in files_in_block(i):\n",
    "        all_files.append(f)\n",
    "mails = [read_mail(m) for m in all_files]\n",
    "classifier = NaiveBayes()\n",
    "classifier.train(mails)"
   ]
  },
  {
   "cell_type": "code",
   "execution_count": 162,
   "metadata": {
    "collapsed": false
   },
   "outputs": [
    {
     "name": "stdout",
     "output_type": "stream",
     "text": [
      "{'legit': 549, 'spam': 432}\n"
     ]
    }
   ],
   "source": [
    "pprint(classifier.count)"
   ]
  },
  {
   "cell_type": "code",
   "execution_count": 163,
   "metadata": {
    "collapsed": false
   },
   "outputs": [
    {
     "data": {
      "text/plain": [
       "981"
      ]
     },
     "execution_count": 163,
     "metadata": {},
     "output_type": "execute_result"
    }
   ],
   "source": [
    "classifier.total_count"
   ]
  },
  {
   "cell_type": "code",
   "execution_count": 169,
   "metadata": {
    "collapsed": false
   },
   "outputs": [],
   "source": [
    "mail = [read_mail(f) for f in files_in_block(10)] \n",
    "ans = list(map(lambda x: 1 if x is \"spam\" else 0, [i[0] for i in mail]))\n",
    "subj = [i[1] for i in mail]\n",
    "body = [i[2] for i in mail]\n",
    "data = list(zip(subj, body))"
   ]
  },
  {
   "cell_type": "code",
   "execution_count": 170,
   "metadata": {
    "collapsed": false
   },
   "outputs": [
    {
     "data": {
      "text/plain": [
       "1"
      ]
     },
     "execution_count": 170,
     "metadata": {},
     "output_type": "execute_result"
    }
   ],
   "source": [
    "ans[0]"
   ]
  },
  {
   "cell_type": "code",
   "execution_count": 171,
   "metadata": {
    "collapsed": false
   },
   "outputs": [
    {
     "name": "stdout",
     "output_type": "stream",
     "text": [
      "(Decimal('0.5596330275229357798165137615'),\n",
      " Decimal('0.4403669724770642201834862385'))\n"
     ]
    },
    {
     "data": {
      "text/plain": [
       "'legit'"
      ]
     },
     "execution_count": 171,
     "metadata": {},
     "output_type": "execute_result"
    }
   ],
   "source": [
    "classifier.classify(data[0][0], data[0][1])"
   ]
  },
  {
   "cell_type": "code",
   "execution_count": 160,
   "metadata": {
    "collapsed": false
   },
   "outputs": [],
   "source": [
    "predicted = [classifier.classify(i[0], i[1]) for i in data]\n",
    "binary = list(map(lambda x: 1 if x is \"spam\" else 0 , predicted))"
   ]
  },
  {
   "cell_type": "code",
   "execution_count": 161,
   "metadata": {
    "collapsed": false
   },
   "outputs": [
    {
     "data": {
      "text/plain": [
       "(0.3464566929133858, 57, 26)"
      ]
     },
     "execution_count": 161,
     "metadata": {},
     "output_type": "execute_result"
    }
   ],
   "source": [
    "f1score(ans, binary)"
   ]
  }
 ],
 "metadata": {
  "anaconda-cloud": {},
  "kernelspec": {
   "display_name": "Python [Root]",
   "language": "python",
   "name": "Python [Root]"
  }
 },
 "nbformat": 4,
 "nbformat_minor": 0
}
