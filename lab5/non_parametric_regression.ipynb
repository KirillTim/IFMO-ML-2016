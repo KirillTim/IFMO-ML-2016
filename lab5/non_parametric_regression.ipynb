{
 "cells": [
  {
   "cell_type": "code",
   "execution_count": 2,
   "metadata": {
    "collapsed": false
   },
   "outputs": [],
   "source": [
    "# Условие этой лабы очень простое: построить непараметрическую регрессию. \n",
    "# Вы можете использовать любые из существующих методов построения непараметрической регрессии, \n",
    "# однако Вы должны уметь доступно и с формулками объяснять, что у Вас происходит и как оно считается. \n",
    "# Требуется реализовать минимум 2 метода. Также требуется посчитать MSE, а также рисовать всякие графики."
   ]
  },
  {
   "cell_type": "code",
   "execution_count": 1,
   "metadata": {
    "collapsed": false
   },
   "outputs": [
    {
     "data": {
      "application/javascript": [
       "IPython.notebook.set_autosave_interval(15000)"
      ]
     },
     "metadata": {},
     "output_type": "display_data"
    },
    {
     "name": "stdout",
     "output_type": "stream",
     "text": [
      "Autosaving every 15 seconds\n"
     ]
    }
   ],
   "source": [
    "%matplotlib inline\n",
    "%load_ext autoreload\n",
    "%autoreload 5\n",
    "%autosave 15    \n",
    "import numpy as np\n",
    "import pandas as pd\n",
    "import math\n",
    "import random\n",
    "import pylab as pl\n",
    "import matplotlib.pyplot as plt\n",
    "from sklearn.cross_validation import KFold\n",
    "from sklearn.metrics.pairwise import euclidean_distances\n",
    "from sklearn.metrics import accuracy_score, f1_score\n",
    "from scipy.spatial.distance import euclidean, cityblock, cosine, correlation\n",
    "from IPython.display import display, HTML\n",
    "from sklearn.metrics import mean_squared_error"
   ]
  },
  {
   "cell_type": "code",
   "execution_count": 2,
   "metadata": {
    "collapsed": false
   },
   "outputs": [],
   "source": [
    "data = pd.read_table(\"D:/Users/Daria/Code2/MachineLearning/hw5_non_parametr_regression/non-parametric.csv\", sep=\";\", header=0, names=['id', 'x', 'y'])\n",
    "points = data[['x', 'y']].as_matrix()"
   ]
  },
  {
   "cell_type": "code",
   "execution_count": 3,
   "metadata": {
    "collapsed": false
   },
   "outputs": [],
   "source": [
    "# kernels\n",
    "square_kernel = lambda u: 15.0 / 16 * (1 - u ** 2) ** 2 * (abs(u) <= 1)\n",
    "epan_kernel = lambda u: 0.75 * (1 - u ** 2) * (abs(u) <= 1)\n",
    "gauss_kernel = lambda u: (2 * math.pi) ** (-1.0 / 2)* math.exp(-u ** 2 / 2.0)\n",
    "triangle_kernel = lambda u: (1 - abs(u)) * (abs(u) <= 1)\n",
    "rectangle_kernel = lambda u: 1.0 / 2 * (abs(u) <= 1)\n",
    "LOWESS_kernel = lambda u: (1 - u ** 2) ** 2 * (abs(u) <= 1)\n",
    "kernels = [square_kernel, epan_kernel, gauss_kernel, triangle_kernel, rectangle_kernel]\n",
    "kernelStr = dict()\n",
    "kernelStr[square_kernel] = \"square kernel\"\n",
    "kernelStr[epan_kernel] = \"epan kernel\"\n",
    "kernelStr[gauss_kernel] = \"gauss kernel\"\n",
    "kernelStr[triangle_kernel] = \"triangle kernel\"\n",
    "kernelStr[rectangle_kernel] = \"rectangle kernel\"\n",
    "metrics = [cityblock, euclidean, cityblock, cosine, correlation]"
   ]
  },
  {
   "cell_type": "code",
   "execution_count": 4,
   "metadata": {
    "collapsed": false
   },
   "outputs": [],
   "source": [
    "curKernel = gauss_kernel\n",
    "dist = euclidean\n",
    "delta = [1] * len(points)\n",
    "maxi = int(max([xi for [xi, yi] in points]))\n",
    "optH = 3\n",
    "def getOptimalH():    \n",
    "    h = optH\n",
    "    mini = sum([(getY(points[i][0], h, i) - points[i][1]) ** 2 for i in range(len(points))])    \n",
    "    hh = 1.1\n",
    "    while (hh < 10):\n",
    "        curM = sum([(getY(points[i][0], hh, i) - points[i][1]) ** 2 for i in range(len(points))])\n",
    "        print(hh, \" \", curM)\n",
    "        if (curM < mini):\n",
    "            mini = curM\n",
    "            h = hh \n",
    "        hh += 0.5\n",
    "    return h\n",
    "    \n",
    "def getY(x, curH, exceptPoint=-1):\n",
    "    a = 0.0\n",
    "    b = 0.0\n",
    "    for i in range(len(points)):        \n",
    "        if (i == exceptPoint):\n",
    "            continue\n",
    "        [xi, yi] = points[i]\n",
    "        wi = curKernel(dist(x, xi) / curH)\n",
    "        a += yi * wi * delta[i]\n",
    "        b += wi * delta[i]\n",
    "    if (b == 0):\n",
    "        return 0\n",
    "    return a / b\n",
    "\n",
    "def LOWESS():\n",
    "    for k in range(3):\n",
    "        curY = []        \n",
    "        for i in range(len(points)):            \n",
    "            res = getY(points[i][0], optH, i)\n",
    "            curY.append(res)\n",
    "        s = np.median([abs(curY[i] - points[i][1]) for i in range(len(points))])\n",
    "        for i in range(len(points)):\n",
    "            epsi = abs(curY[i] - points[i][1])\n",
    "            delta[i] = LOWESS_kernel(epsi / (6.0 * s))  "
   ]
  },
  {
   "cell_type": "code",
   "execution_count": 11,
   "metadata": {
    "collapsed": false
   },
   "outputs": [],
   "source": [
    "# k Nearest Neighbors algorithm\n",
    "def kNN(x, k, exceptPoint=-1):\n",
    "    k = min(k, len(points))        \n",
    "    distances = [[tpoint[0], tpoint[1], dist([x, 0], [tpoint[0], 0])] for tpoint in points]\n",
    "    distances.sort(key=lambda p:p[2])\n",
    "    #klargest\n",
    "    a = 0.0\n",
    "    b = 0.0\n",
    "    curH = abs(x - distances[k - 1][0])\n",
    "    for i in range(k):        \n",
    "        [xi, yi] = distances[i][:2]\n",
    "        if xi == x and yi == exceptPoint and exceptPoint > 0:\n",
    "            i -= 1\n",
    "            continue\n",
    "        wi = curKernel(dist(x, xi) / (dist(x, curH) + 1))\n",
    "        a += yi * wi\n",
    "        b += wi\n",
    "    if (b == 0):\n",
    "        return 0\n",
    "    return a / b"
   ]
  },
  {
   "cell_type": "code",
   "execution_count": 51,
   "metadata": {
    "collapsed": false
   },
   "outputs": [],
   "source": [
    "# spline\n",
    "# x(t) = ((a3t + a2)t + a1)t + a0, для 0 <= t <= 1\n",
    "# y(t) = ((b3t + b2)t + b1)t + b0, для 0 <= t <= 1\n",
    "m = 10\n",
    "def spline():\n",
    "    res = []\n",
    "    for i in range(1, len(points) - 2):        \n",
    "        xA, xB, xC, xD = points[i - 1][0], points[i][0], points[i + 1][0], points[i + 2][0]\n",
    "        yA, yB, yC, yD = points[i - 1][1], points[i][1], points[i + 1][1], points[i + 2][1]\n",
    "        \n",
    "        a3 = (-xA + 3 * (xB - xC) + xD) / 6.0\n",
    "        a2 = (xA - 2 * xB + xC) / 2.0\n",
    "        a1 = (xC - xA) / 2.0\n",
    "        a0 = (xA + 4 * xB + xC) / 6.0\n",
    "        b3 = (-yA + 3 * (yB - yC) + yD) / 6.0\n",
    "        b2 = (yA - 2 * yB + yC) / 2.0\n",
    "        b1 = (yC - yA) / 2.0\n",
    "        b0 = (yA + 4 * yB + yC) / 6.0\n",
    "#         print(a0, a1, a2, a3, b0, b1, b2, b3)\n",
    "        for j in range(m):\n",
    "            t = (j + 1) / m\n",
    "            curX = ((a3 * t + a2) * t + a1) * t + a0\n",
    "            curY = ((b3 * t + b2) * t + b1) * t + b0\n",
    "#             print(curX, curY)\n",
    "            res.append([curX, curY])\n",
    "    return res\n",
    "\n",
    "def getYspline(x):        \n",
    "    xx = points[0][0]\n",
    "    yy = points[0][1]\n",
    "    for i in range(1, len(points) - 2):        \n",
    "        xA, xB, xC, xD = points[i - 1][0], points[i][0], points[i + 1][0], points[i + 2][0]\n",
    "        yA, yB, yC, yD = points[i - 1][1], points[i][1], points[i + 1][1], points[i + 2][1]\n",
    "        if not (x >= xA and x <= xD):\n",
    "            continue\n",
    "        a3 = (-xA + 3 * (xB - xC) + xD) / 6.0\n",
    "        a2 = (xA - 2 * xB + xC) / 2.0\n",
    "        a1 = (xC - xA) / 2.0\n",
    "        a0 = (xA + 4 * xB + xC) / 6.0\n",
    "        b3 = (-yA + 3 * (yB - yC) + yD) / 6.0\n",
    "        b2 = (yA - 2 * yB + yC) / 2.0\n",
    "        b1 = (yC - yA) / 2.0\n",
    "        b0 = (yA + 4 * yB + yC) / 6.0\n",
    "#         print(a0, a1, a2, a3, b0, b1, b2, b3)        \n",
    "        for j in range(m):\n",
    "            t = (j + 1) / m\n",
    "            curX = ((a3 * t + a2) * t + a1) * t + a0\n",
    "            curY = ((b3 * t + b2) * t + b1) * t + b0\n",
    "            if (abs(curX - x) < abs(xx - x)):\n",
    "                xx = curX\n",
    "                yy = curY\n",
    "#             print(curX, curY)   \n",
    "#     print(x, xx)\n",
    "    return yy\n",
    "    "
   ]
  },
  {
   "cell_type": "code",
   "execution_count": 53,
   "metadata": {
    "collapsed": false
   },
   "outputs": [
    {
     "name": "stdout",
     "output_type": "stream",
     "text": [
      "smoothing, kernel =  square kernel ; mean squared error =  756.842876523\n",
      "smoothing, kernel =  epan kernel ; mean squared error =  800.547562914\n",
      "smoothing, kernel =  gauss kernel ; mean squared error =  1002.78180724\n",
      "smoothing, kernel =  triangle kernel ; mean squared error =  749.594827994\n",
      "smoothing, kernel =  rectangle kernel ; mean squared error =  864.053804758\n",
      "kNN, k =  8 ; mean squared error =  821.893316852\n",
      "kNN, k =  9 ; mean squared error =  842.762674563\n",
      "kNN, k =  10 ; mean squared error =  851.973287068\n",
      "kNN, k =  11 ; mean squared error =  847.33285671\n",
      "kNN, k =  12 ; mean squared error =  842.659011648\n",
      "kNN, k =  13 ; mean squared error =  844.9763572\n",
      "kNN, k =  14 ; mean squared error =  849.089085085\n",
      "kNN, k =  15 ; mean squared error =  838.365474707\n",
      "kNN, k =  16 ; mean squared error =  851.007437436\n",
      "kNN, k =  17 ; mean squared error =  862.371304294\n",
      "spline; mean squared error =  307.441434997\n"
     ]
    },
    {
     "data": {
      "image/png": "[encoded data removed]",
      "text/plain": [
       "<matplotlib.figure.Figure at 0xab9d2bd9b0>"
      ]
     },
     "metadata": {},
     "output_type": "display_data"
    }
   ],
   "source": [
    "transformations = [lambda x: x]#, lambda x: x ** 2, lambda x: x ** 0.5]\n",
    "metrics = [cityblock, euclidean, cityblock, cosine, correlation]\n",
    "showPoints(points, 'b', 'o')\n",
    "for kernel in kernels:\n",
    "    curKernel = kernel\n",
    "#     optH = getOptimalH()\n",
    "#     LOWESS() \n",
    "#     print(delta)\n",
    "    curP = []\n",
    "    for x in range(0, maxi):\n",
    "        curP.append([x, getY(x, optH)])\n",
    "    print(\"smoothing, kernel = \", kernelStr[curKernel], \"; mean squared error = \", mean_squared_error([yi for [xi, yi] in points], [getY(xi, optH) for [xi, yi] in points]))\n",
    "    showPoints(curP, 'g', '-')\n",
    "for k in range(8, 18):\n",
    "    kNNres = []\n",
    "    for x in range(0, maxi):\n",
    "        kNNres.append([x, kNN(x, k)])\n",
    "    showPoints(kNNres, 'r', '-')\n",
    "    print(\"kNN, k = \", k, \"; mean squared error = \", mean_squared_error([yi for [xi, yi] in points], [kNN(xi, k, yi) for [xi, yi] in points]))\n",
    "splines = spline()\n",
    "print(\"spline; mean squared error = \", mean_squared_error([yi for [xi, yi] in points], [getYspline(xi) for [xi, yi] in points]))\n",
    "showPoints(splines, 'y', '-')\n",
    "show()"
   ]
  },
  {
   "cell_type": "code",
   "execution_count": 7,
   "metadata": {
    "collapsed": true
   },
   "outputs": [],
   "source": [
    "def showPoints(ticks, color, style):    \n",
    "    x_ticks = [xi for [xi, yi] in ticks]\n",
    "    y_ticks = [yi for [xi, yi] in ticks]\n",
    "    plt.plot(x_ticks, y_ticks, color + style)\n",
    "def show():\n",
    "    plt.show()"
   ]
  },
  {
   "cell_type": "code",
   "execution_count": 10,
   "metadata": {
    "collapsed": true
   },
   "outputs": [],
   "source": [
    "# k-fold cross-validation\n",
    "def training(data, k, metrics, kNN_value):\n",
    "    kf = KFold(len(data), n_folds=k, shuffle=True)\n",
    "    averageAccuracy = 0\n",
    "    for train_index, test_index in kf:\n",
    "        train = data.loc[train_index].as_matrix()\n",
    "        test = data.loc[test_index].as_matrix()\n",
    "        result = kNN(kNN_value, metrics, train, test)\n",
    "        #f1 measure =  2 * (precision * recall) / (precision + recall)\n",
    "        f1 = f1_score([row[2] for row in test], [row[3] for row in result]) \n",
    "        averageAccuracy += f1\n",
    "    averageAccuracy /= k\n",
    "    return averageAccuracy"
   ]
  },
  {
   "cell_type": "code",
   "execution_count": null,
   "metadata": {
    "collapsed": true
   },
   "outputs": [],
   "source": []
  }
 ],
 "metadata": {
  "anaconda-cloud": {},
  "kernelspec": {
   "display_name": "Python [Root]",
   "language": "python",
   "name": "Python [Root]"
  },
  "language_info": {
   "codemirror_mode": {
    "name": "ipython",
    "version": 3
   },
   "file_extension": ".py",
   "mimetype": "text/x-python",
   "name": "python",
   "nbconvert_exporter": "python",
   "pygments_lexer": "ipython3",
   "version": "3.5.2"
  }
 },
 "nbformat": 4,
 "nbformat_minor": 0
}
