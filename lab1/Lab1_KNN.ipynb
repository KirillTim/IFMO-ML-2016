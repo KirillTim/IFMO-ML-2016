{
 "cells": [
  {
   "cell_type": "code",
   "metadata": {
    "collapsed": false
   },
   "outputs": [],
   "source": [
    "%matplotlib inline\n",
    "import numpy as np\n",
    "import pandas as pd\n",
    "import matplotlib.pyplot as plt\n",
    "from pprint import pprint\n",
    "from random import shuffle\n",
    "from sklearn.metrics import accuracy_score\n",
    "from math import sqrt"
   ]
  },
  {
   "cell_type": "code",
   "metadata": {
    "collapsed": false
   },
   "outputs": [],
   "source": [
    "df = pd.read_csv(\"chips.txt\", header=None, names=[\"x\", \"y\", \"type\"])\n",
    "df['color'] = df['type'].map(lambda x: 'red' if x else 'blue')"
   ]
  },
  {
   "cell_type": "code",
   "metadata": {
    "collapsed": false
   },
   "outputs": [],
   "source": [
    "plt.scatter(df['x'], df['y'], c=df['color'])\n",
    "plt.show()"
   ]
  },
  {
   "cell_type": "code",
   "metadata": {
    "collapsed": true
   },
   "outputs": [],
   "source": [
    "def cross_validation_split(data, k):\n",
    "    rv = data[:]\n",
    "    shuffle(rv)\n",
    "    count = int(len(data) / k)\n",
    "    return rv[:count], rv[count:]\n",
    "\n",
    "def accuracy(theory, predictions):\n",
    "    correct = 0\n",
    "    for x in range(len(theory)):\n",
    "        if theory[x][-1] == predictions[x]:\n",
    "            correct += 1\n",
    "    return correct/float(len(theory))\n",
    "\n",
    "def f1score(theory, practice):\n",
    "    tp, fn, fp, tn = 0, 0, 0, 0\n",
    "    for i in range(len(theory)):\n",
    "        tp += theory[i][-1] == practice[i] and practice[i] == 1\n",
    "        tn += theory[i][-1] == practice[i] and practice[i] == 0\n",
    "        fn = sum(practice) - tp\n",
    "        fp = (len(practice) - sum(practice)) - tn\n",
    "    precision = tp / (tp + fp)\n",
    "    recall = tp / (tp + fn)\n",
    "    return 2 * precision * recall / (precision + recall)"
   ]
  },
  {
   "cell_type": "code",
   "metadata": {
    "collapsed": false
   },
   "outputs": [],
   "source": [
    "def euclidean(a, b):\n",
    "    rv = 0\n",
    "    for i in range(len(a)):\n",
    "        rv += (a[i] - b[i]) ** 2\n",
    "    return sqrt(rv)\n",
    "\n",
    "def manhattan(a, b):\n",
    "    rv = 0\n",
    "    for i in range(len(a)):\n",
    "        rv += abs(a[i] - b[i])\n",
    "    return rv\n",
    "\n",
    "def KNN(learn, test, k, distance):\n",
    "    k = min(k, len(learn))\n",
    "    res = [] \n",
    "    for p in test:\n",
    "        a = [[distance(p[:2], x[:2]), x] for x in learn]\n",
    "        a.sort()\n",
    "        a = a[:k]\n",
    "        r = {}\n",
    "        for j, i in a:\n",
    "            if i[2] in r:\n",
    "                r[i[2]] = r[i[2]] + 1\n",
    "            else:\n",
    "                r[i[2]] = 1\n",
    "        ans = sorted(r, key = r.get, reverse=True)[0]\n",
    "        res.append((p, ans))\n",
    "    return res"
   ]
  },
  {
   "cell_type": "code",
   "metadata": {
    "collapsed": false
   },
   "outputs": [],
   "source": [
    "def k_to_score(data, distance, score_function):\n",
    "    test, learn = cross_validation_split(data, 5)\n",
    "    result = {}\n",
    "    for k in range(1, len(learn)):\n",
    "        rr = KNN(learn, test, k, distance)\n",
    "        result[k] = score_function(test, [x[-1] for x in rr])\n",
    "    pprint(sorted(result.items(), key=lambda x : x[-1], reverse=True)[0])\n",
    "    return result"
   ]
  },
  {
   "cell_type": "code",
   "metadata": {
    "collapsed": false
   },
   "outputs": [],
   "source": [
    "data = list(zip(list(df['x']), list(df['y']), list(df['type'])))\n",
    "rv = k_to_score(data, euclidean, accuracy)\n",
    "plt.plot(list(rv.keys()), list(rv.values()))"
   ]
  },
  {
   "cell_type": "code",
   "metadata": {
    "collapsed": false
   },
   "outputs": [],
   "source": [
    "data = list(zip(list(df['x']), list(df['y']), list(df['type'])))\n",
    "rv = k_to_score(data, manhattan, accuracy)\n",
    "plt.plot(list(rv.keys()), list(rv.values()))"
   ]
  }
 ],
 "metadata": {
  "anaconda-cloud": {},
  "git": {
   "suppress_outputs": true
  },
  "kernelspec": {
   "display_name": "Python [Root]",
   "language": "python",
   "name": "Python [Root]"
  },
  "language_info": {
   "codemirror_mode": {
    "name": "ipython",
    "version": 3
   },
   "file_extension": ".py",
   "mimetype": "text/x-python",
   "name": "python",
   "nbconvert_exporter": "python",
   "pygments_lexer": "ipython3",
   "version": "3.5.2"
  }
 },
 "nbformat": 4,
 "nbformat_minor": 0
}