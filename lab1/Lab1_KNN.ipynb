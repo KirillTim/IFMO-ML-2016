{
 "cells": [
  {
   "cell_type": "code",
   "metadata": {
    "collapsed": true
   },
   "outputs": [],
   "source": [
    "%matplotlib inline\n",
    "import numpy as np\n",
    "import pandas as pd\n",
    "import matplotlib.pyplot as plt\n",
    "from pprint import pprint\n",
    "from random import shuffle"
   ]
  },
  {
   "cell_type": "code",
   "metadata": {
    "collapsed": false
   },
   "outputs": [],
   "source": [
    "df = pd.read_csv(\"chips.txt\", header=None, names=[\"x\", \"y\", \"type\"])\n",
    "df['color'] = df['type'].map(lambda x: 'red' if x else 'blue')\n",
    "df.head()"
   ]
  },
  {
   "cell_type": "code",
   "metadata": {
    "collapsed": false
   },
   "outputs": [],
   "source": [
    "plt.scatter(df['x'], df['y'], c=df['color'])\n",
    "plt.show()"
   ]
  },
  {
   "cell_type": "code",
   "metadata": {
    "collapsed": false
   },
   "outputs": [],
   "source": [
    "def distance(a, b):\n",
    "    return ((a[0] - b[0]) ** 2 + (a[1] - b[1]) ** 2) ** 0.5\n",
    "\n",
    "def KNN(learn, test, k):\n",
    "    k = min(k, len(learn))\n",
    "    res = [] \n",
    "    for p in test:\n",
    "        a = [[distance(p[:2], x[:2]), x] for x in learn]\n",
    "        a.sort()\n",
    "        pprint(a)\n",
    "        res.append([p[0], p[1], p[2], s])\n",
    "    return res"
   ]
  },
  {
   "cell_type": "code",
   "metadata": {
    "collapsed": false
   },
   "outputs": [],
   "source": [
    "df.reindex(np.random.permutation(df.index))\n",
    "data = list(zip(list(df['x']), list(df['y']), list(df['type'])))\n",
    "l = int(len(data)*0.8)\n",
    "t = len(data) - l\n",
    "learn = data[:l]\n",
    "test = data[t:]\n",
    "KNN(learn, test, 3)"
   ]
  }
 ],
 "metadata": {
  "anaconda-cloud": {},
  "git": {
   "suppress_outputs": true
  },
  "kernelspec": {
   "display_name": "Python [Root]",
   "language": "python",
   "name": "Python [Root]"
  },
  "language_info": {
   "codemirror_mode": {
    "name": "ipython",
    "version": 3
   },
   "file_extension": ".py",
   "mimetype": "text/x-python",
   "name": "python",
   "nbconvert_exporter": "python",
   "pygments_lexer": "ipython3",
   "version": "3.5.2"
  }
 },
 "nbformat": 4,
 "nbformat_minor": 0
}