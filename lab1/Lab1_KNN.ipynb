{
 "cells": [
  {
   "cell_type": "code",
   "metadata": {
    "collapsed": false
   },
   "outputs": [],
   "source": [
    "%matplotlib inline\n",
    "import numpy as np\n",
    "import pandas as pd\n",
    "import matplotlib.pyplot as plt\n",
    "from pprint import pprint\n",
    "from random import shuffle\n",
    "from sklearn.metrics import accuracy_score\n",
    "from math import sqrt\n",
    "from sklearn.cross_validation import KFold"
   ]
  },
  {
   "cell_type": "code",
   "metadata": {
    "collapsed": false
   },
   "outputs": [],
   "source": [
    "df = pd.read_csv(\"chips.txt\", header=None, names=[\"x\", \"y\", \"type\"])\n",
    "df['color'] = df['type'].map(lambda x: 'red' if x else 'blue')"
   ]
  },
  {
   "cell_type": "code",
   "metadata": {
    "collapsed": false
   },
   "outputs": [],
   "source": [
    "plt.scatter(df['x'], df['y'], c=df['color'])"
   ]
  },
  {
   "cell_type": "code",
   "metadata": {
    "collapsed": false
   },
   "outputs": [],
   "source": [
    "xx, yy = zip(*[(i[0]**2, i[1]**2) for i in zip(list(df['x']), list(df['y']))])\n",
    "plt.scatter(xx, yy, c=df['color'])"
   ]
  },
  {
   "cell_type": "code",
   "metadata": {
    "collapsed": true
   },
   "outputs": [],
   "source": [
    "def accuracy(theory, predictions):\n",
    "    correct = 0\n",
    "    for x in range(len(theory)):\n",
    "        if theory[x][-1] == predictions[x]:\n",
    "            correct += 1\n",
    "    return correct/float(len(theory))\n",
    "\n",
    "def f1score(theory, practice):\n",
    "    tp, fn, fp, tn = 0, 0, 0, 0\n",
    "    for i in range(len(theory)):\n",
    "        tp += theory[i] == practice[i] and practice[i] == 1\n",
    "        tn += theory[i] == practice[i] and practice[i] == 0\n",
    "        fn = sum(practice) - tp\n",
    "        fp = (len(practice) - sum(practice)) - tn\n",
    "    precision = tp / (tp + fp)\n",
    "    recall = tp / (tp + fn)\n",
    "    return 2 * precision * recall / (precision + recall)"
   ]
  },
  {
   "cell_type": "code",
   "metadata": {
    "collapsed": false
   },
   "outputs": [],
   "source": [
    "def euclidean(a, b):\n",
    "    rv = 0\n",
    "    for i in range(len(a)):\n",
    "        rv += (a[i] - b[i]) ** 2\n",
    "    return sqrt(rv)\n",
    "\n",
    "def manhattan(a, b):\n",
    "    rv = 0\n",
    "    for i in range(len(a)):\n",
    "        rv += abs(a[i] - b[i])\n",
    "    return rv"
   ]
  },
  {
   "cell_type": "code",
   "metadata": {
    "collapsed": true
   },
   "outputs": [],
   "source": [
    "class KNNClassifier():\n",
    "    def __init__(self, k, distance):\n",
    "        self.k = k;\n",
    "        self.distance = distance\n",
    "        \n",
    "    def train(self, X, y):\n",
    "        self.train_X = X\n",
    "        self.train_y = y\n",
    "        self.k = min(self.k, len(X))\n",
    "        \n",
    "    def predict(self, x):\n",
    "        dist = []\n",
    "        for i in range(len(self.train_X)):\n",
    "            dist.append((self.distance(x, self.train_X[i]), self.train_y[i]))\n",
    "        dist.sort()\n",
    "        dist = dist[:self.k]\n",
    "        #pprint(dist)\n",
    "        r = {}\n",
    "        for d in dist:\n",
    "            r[d[1]] = r.get(d[1], 0) + 1\n",
    "        return sorted(r, key = r.get, reverse=True)[0]"
   ]
  },
  {
   "cell_type": "code",
   "metadata": {
    "collapsed": false
   },
   "outputs": [],
   "source": [
    "x_y_type = np.array(list(zip(df['x'], df['y'], df['type'])))\n",
    "pprint(x_y_type.shape)\n",
    "kf = KFold(len(x_y_type), n_folds=5,shuffle=True)\n",
    "f1scores = []\n",
    "for train_index, test_index in kf:\n",
    "    knn = KNNClassifier(5, euclidean)\n",
    "    cur_X = x_y_type[train_index][:, [0,1]]\n",
    "    cur_y = x_y_type[train_index][:, 2].astype(int)\n",
    "    knn.train(cur_X, cur_y)\n",
    "    res = [knn.predict(x) for *x, y in x_y_type[test_index]]\n",
    "    y = x_y_type[test_index][: , 2].astype(int)\n",
    "    f1scores.append(f1score(y, res))\n",
    "    \n",
    "np.mean(f1scores)"
   ]
  },
  {
   "cell_type": "code",
   "metadata": {
    "collapsed": false
   },
   "outputs": [],
   "source": [
    "r_phi_type = np.array(list(zip(xx, yy, df['type'])))\n",
    "kf = KFold(len(r_phi_type), n_folds=5,shuffle=True)\n",
    "f1scores = []\n",
    "for train_index, test_index in kf:\n",
    "    knn = KNNClassifier(5, manhattan)\n",
    "    cur_X = r_phi_type[train_index][:, [0,1]]\n",
    "    cur_y = r_phi_type[train_index][:, 2].astype(int)\n",
    "    knn.train(cur_X, cur_y)\n",
    "    res = [knn.predict(x) for *x, y in r_phi_type[test_index]]\n",
    "    y = r_phi_type[test_index][: , 2].astype(int)\n",
    "    f1scores.append(f1score(y, res))\n",
    "    \n",
    "np.mean(f1scores)"
   ]
  }
 ],
 "metadata": {
  "anaconda-cloud": {},
  "git": {
   "suppress_outputs": true
  },
  "kernelspec": {
   "display_name": "Python [Root]",
   "language": "python",
   "name": "Python [Root]"
  },
  "language_info": {
   "codemirror_mode": {
    "name": "ipython",
    "version": 3
   },
   "file_extension": ".py",
   "mimetype": "text/x-python",
   "name": "python",
   "nbconvert_exporter": "python",
   "pygments_lexer": "ipython3",
   "version": "3.5.2"
  }
 },
 "nbformat": 4,
 "nbformat_minor": 0
}